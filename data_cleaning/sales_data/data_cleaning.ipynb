{
 "cells": [
  {
   "cell_type": "markdown",
   "metadata": {},
   "source": [
    "# Sales Data"
   ]
  },
  {
   "cell_type": "code",
   "execution_count": 6,
   "metadata": {},
   "outputs": [
    {
     "data": {
      "text/html": [
       "<div>\n",
       "<style scoped>\n",
       "    .dataframe tbody tr th:only-of-type {\n",
       "        vertical-align: middle;\n",
       "    }\n",
       "\n",
       "    .dataframe tbody tr th {\n",
       "        vertical-align: top;\n",
       "    }\n",
       "\n",
       "    .dataframe thead th {\n",
       "        text-align: right;\n",
       "    }\n",
       "</style>\n",
       "<table border=\"1\" class=\"dataframe\">\n",
       "  <thead>\n",
       "    <tr style=\"text-align: right;\">\n",
       "      <th></th>\n",
       "      <th>order_id</th>\n",
       "      <th>product</th>\n",
       "      <th>quantity_orderd</th>\n",
       "      <th>price_each</th>\n",
       "      <th>order_date</th>\n",
       "      <th>purchase_address</th>\n",
       "    </tr>\n",
       "  </thead>\n",
       "  <tbody>\n",
       "    <tr>\n",
       "      <th>0</th>\n",
       "      <td>295665.0</td>\n",
       "      <td>Macbook Pro Laptop</td>\n",
       "      <td>1.0</td>\n",
       "      <td>1700.00</td>\n",
       "      <td>12/30/19 00:01</td>\n",
       "      <td>136 Church St, New York City, NY 10001</td>\n",
       "    </tr>\n",
       "    <tr>\n",
       "      <th>1</th>\n",
       "      <td>295666.0</td>\n",
       "      <td>LG Washing Machine</td>\n",
       "      <td>1.0</td>\n",
       "      <td>600.00</td>\n",
       "      <td>12/29/19 07:03</td>\n",
       "      <td>562 2nd St, New York City, NY 10001</td>\n",
       "    </tr>\n",
       "    <tr>\n",
       "      <th>2</th>\n",
       "      <td>295667.0</td>\n",
       "      <td>USB-C Charging Cable</td>\n",
       "      <td>1.0</td>\n",
       "      <td>11.95</td>\n",
       "      <td>12/12/19 18:21</td>\n",
       "      <td>277 Main St, New York City, NY 10001</td>\n",
       "    </tr>\n",
       "    <tr>\n",
       "      <th>3</th>\n",
       "      <td>295668.0</td>\n",
       "      <td>27in FHD Monitor</td>\n",
       "      <td>1.0</td>\n",
       "      <td>149.99</td>\n",
       "      <td>12/22/19 15:13</td>\n",
       "      <td>410 6th St, San Francisco, CA 94016</td>\n",
       "    </tr>\n",
       "    <tr>\n",
       "      <th>4</th>\n",
       "      <td>295669.0</td>\n",
       "      <td>USB-C Charging Cable</td>\n",
       "      <td>1.0</td>\n",
       "      <td>11.95</td>\n",
       "      <td>12/18/19 12:38</td>\n",
       "      <td>43 Hill St, Atlanta, GA 30301</td>\n",
       "    </tr>\n",
       "  </tbody>\n",
       "</table>\n",
       "</div>"
      ],
      "text/plain": [
       "   order_id               product  quantity_orderd  price_each  \\\n",
       "0  295665.0    Macbook Pro Laptop              1.0     1700.00   \n",
       "1  295666.0    LG Washing Machine              1.0      600.00   \n",
       "2  295667.0  USB-C Charging Cable              1.0       11.95   \n",
       "3  295668.0      27in FHD Monitor              1.0      149.99   \n",
       "4  295669.0  USB-C Charging Cable              1.0       11.95   \n",
       "\n",
       "       order_date                        purchase_address  \n",
       "0  12/30/19 00:01  136 Church St, New York City, NY 10001  \n",
       "1  12/29/19 07:03     562 2nd St, New York City, NY 10001  \n",
       "2  12/12/19 18:21    277 Main St, New York City, NY 10001  \n",
       "3  12/22/19 15:13     410 6th St, San Francisco, CA 94016  \n",
       "4  12/18/19 12:38           43 Hill St, Atlanta, GA 30301  "
      ]
     },
     "execution_count": 6,
     "metadata": {},
     "output_type": "execute_result"
    }
   ],
   "source": [
    "# Import library\n",
    "import pandas as pd\n",
    "\n",
    "# Read Data\n",
    "rawSalesDataDF = pd.read_csv('sales_data.csv')\n",
    "\n",
    "# Get top 5 data\n",
    "rawSalesDataDF.head()"
   ]
  },
  {
   "cell_type": "markdown",
   "metadata": {},
   "source": [
    "---\n",
    "- Selain diberikan sebuah data, Anda juga diberikan sebuah requirements :\n",
    "    - `column_requirements`\n",
    "- Jadi :\n",
    "    - Nama kolom dari data yang diberikan harus sesuai dengan `column_requirements`\n",
    "    - Tipe data kolom dari data yang diberikan harus sesuai dengan `column_requirements`"
   ]
  },
  {
   "cell_type": "code",
   "execution_count": 2,
   "metadata": {},
   "outputs": [],
   "source": [
    "def columns_requirements():\n",
    "    columns = {'order_id' : int,\n",
    "               'product' : object,\n",
    "               'quantity_orderd' : int,\n",
    "               'price_each' : float,\n",
    "               'order_date' : 'datetime64[ns]',\n",
    "               'street' : object,\n",
    "               'city' : object,\n",
    "               'zip_code' : object\n",
    "               }\n",
    "    return columns"
   ]
  },
  {
   "cell_type": "markdown",
   "metadata": {},
   "source": [
    "- Anda diminta untuk **membuat pipeline data validation** untuk :\n",
    "    - Check **Data Shape**\n",
    "        - Menampilkan jumlah baris dan kolom.\n",
    "    - Check **Columns**\n",
    "        - Melakukan pengecekan kolom-kolom pada data yang diberikan, **apakah sesuai dengan requirements?**\n",
    "    - Check **Data Types**\n",
    "        - Melakukan pengecekan tipe data kolom dari data yang diberikan, **apakah sesuai dengan requirements?**"
   ]
  },
  {
   "cell_type": "code",
   "execution_count": 7,
   "metadata": {},
   "outputs": [
    {
     "name": "stdout",
     "output_type": "stream",
     "text": [
      "\u001b[1m>>>>> STEP 1 : CHECK DATA SHAPE \u001b[0m\n",
      "=> Number of rows : 25069\n",
      "=> Number of columns : 6\n"
     ]
    }
   ],
   "source": [
    "print(\"\\033[1m>>>>> STEP 1 : CHECK DATA SHAPE \\033[0m\")\n",
    "rowNum = rawSalesDataDF.shape[0]\n",
    "colNum = rawSalesDataDF.shape[1]\n",
    "print(f\"=> Number of rows : {rowNum}\")\n",
    "print(f\"=> Number of columns : {colNum}\")"
   ]
  },
  {
   "cell_type": "markdown",
   "metadata": {},
   "source": [
    "- **Cek apakah kolom pada data aktual match dengan requirements.**\n",
    "- Beikut tahapan pengerjaannya :\n",
    "1. Dapatkan requirements column dan actual column."
   ]
  },
  {
   "cell_type": "code",
   "execution_count": 9,
   "metadata": {},
   "outputs": [],
   "source": [
    "reqCols = set(columns_requirements().keys())\n",
    "actCols = set(rawSalesDataDF.columns)"
   ]
  },
  {
   "cell_type": "markdown",
   "metadata": {},
   "source": [
    "2. Periksa apakah kolom aktual sesuai dengan requirements.\n",
    "    - **Jika sama :**\n",
    "        - Print : \"Columns match with requirements\"\n",
    "    - **Jika tidak sama :**\n",
    "        - Print : \"Columns not match with requirements\"\n",
    "        - Tampilkan kolom-kolom pada data aktual yang tidak ada di dalam requirements."
   ]
  },
  {
   "cell_type": "code",
   "execution_count": 14,
   "metadata": {},
   "outputs": [
    {
     "name": "stdout",
     "output_type": "stream",
     "text": [
      "=> Actual Column you should delete :\n",
      "\t- purchase_address\n",
      "\n",
      "=> Columns must exist in your data :\n",
      "\t- street\n",
      "\t- city\n",
      "\t- zip_code\n"
     ]
    }
   ],
   "source": [
    "# Memeriksa apakah kolom aktual sesuai dengan requirements.\n",
    "# Jika sesuai\n",
    "if actCols == reqCols:\n",
    "    # Print \"=> Columns match with requirements.\"\n",
    "    print(\"=> Columns match with requirements\")\n",
    "# Jika tidak sesuai\n",
    "else:\n",
    "    # Print \"=> Actual Column you should delete :\"\n",
    "    print(\"=> Actual Column you should delete :\")\n",
    "    # Iterasi pada list kolom data aktual untuk menampilkan kolom aktual yang seharusnya dihapus\n",
    "    for col in actCols:\n",
    "        # Cek apakah kolom pada data aktual TIDAK ADA di dalam requirements\n",
    "        if col not in reqCols:\n",
    "            # Tampilkan kolom yang TIDAK ADA di dalam requirements\n",
    "            print(f\"\\t- {col}\")\n",
    "    # Print \"=> Columns must exist in your data :\"\n",
    "    print(\"\\n=> Columns must exist in your data :\")\n",
    "    # Iterasi ada list kolom requirements untuk menampilkan kolom yang seharusnya ada dalam data aktual\n",
    "    for col in reqCols:\n",
    "        # Cek Apakah requirement kolom TIDAK ADA di dalam data aktual\n",
    "        if col not in actCols:\n",
    "            # Tampilkan kolom yang TIDAK ADA di dalam requirements\n",
    "            print(f\"\\t- {col}\")"
   ]
  },
  {
   "cell_type": "markdown",
   "metadata": {},
   "source": [
    "3. Satukan code 1 dan 2 tersebut."
   ]
  },
  {
   "cell_type": "code",
   "execution_count": 15,
   "metadata": {},
   "outputs": [
    {
     "name": "stdout",
     "output_type": "stream",
     "text": [
      "\u001b[1m>>>>> STEP 2 : CHECK COLUMNS \u001b[0m\n",
      "=> Actual Column you should delete :\n",
      "\t- purchase_address\n",
      "\n",
      "=> Columns must exist in your data :\n",
      "\t- street\n",
      "\t- city\n",
      "\t- zip_code\n"
     ]
    }
   ],
   "source": [
    "print(\"\\033[1m>>>>> STEP 2 : CHECK COLUMNS \\033[0m\")\n",
    "\n",
    "# Mendapatkan set kolom requirements\n",
    "reqCols = set(columns_requirements().keys())\n",
    "\n",
    "# Mendapatkan set kolom pada data aktual\n",
    "actCols = set(rawSalesDataDF.columns)\n",
    "\n",
    "# Memeriksa apakah kolom aktual sesuai dengan requirements.\n",
    "# Memeriksa apakah kolom aktual sesuai dengan requirements.\n",
    "# Jika sesuai\n",
    "if actCols == reqCols:\n",
    "    # Print \"=> Columns match with requirements.\"\n",
    "    print(\"=> Columns match with requirements\")\n",
    "# Jika tidak sesuai\n",
    "else:\n",
    "    # Print \"=> Actual Column you should delete :\"\n",
    "    print(\"=> Actual Column you should delete :\")\n",
    "    # Iterasi pada list kolom data aktual untuk menampilkan kolom aktual yang seharusnya dihapus\n",
    "    for col in actCols:\n",
    "        # Cek apakah kolom pada data aktual TIDAK ADA di dalam requirements\n",
    "        if col not in reqCols:\n",
    "            # Tampilkan kolom yang TIDAK ADA di dalam requirements\n",
    "            print(f\"\\t- {col}\")\n",
    "    # Print \"=> Columns must exist in your data :\"\n",
    "    print(\"\\n=> Columns must exist in your data :\")\n",
    "    # Iterasi ada list kolom requirements untuk menampilkan kolom yang seharusnya ada dalam data aktual\n",
    "    for col in reqCols:\n",
    "        # Cek Apakah requirement kolom TIDAK ADA di dalam data aktual\n",
    "        if col not in actCols:\n",
    "            # Tampilkan kolom yang TIDAK ADA di dalam requirements\n",
    "            print(f\"\\t- {col}\")"
   ]
  },
  {
   "cell_type": "markdown",
   "metadata": {},
   "source": [
    "- Cek **Data Type** pada actual columns.\n",
    "- Berikut tahapan pengerjaannya :"
   ]
  },
  {
   "cell_type": "markdown",
   "metadata": {},
   "source": [
    "1. Lakukan :\n",
    "    - Dapatkan requirements column dan tipe datanya\n",
    "    - Dapatkan list actual columns\n",
    "    - Buat list kosong untuk menyimpan data yang tidak sesuai requirements"
   ]
  },
  {
   "cell_type": "code",
   "execution_count": 17,
   "metadata": {},
   "outputs": [
    {
     "name": "stdout",
     "output_type": "stream",
     "text": [
      "\u001b[1m>>>>> STEP 3 : CHECK DATA TYPES \u001b[0m\n"
     ]
    }
   ],
   "source": [
    "print(\"\\033[1m>>>>> STEP 3 : CHECK DATA TYPES \\033[0m\")\n",
    "# Mendapatkan kolom dan tipe data yang diperlukan untuk setiap kolom\n",
    "reqColTypeDict = columns_requirements()\n",
    "\n",
    "# Mendapatkan list kolom pada data aktual\n",
    "actCols = list(actCols)\n",
    "\n",
    "# Buat list kosong untuk menyimpan kolom yang tipe datanya tidak sesuai dengan rquirements\n",
    "mismatchColTypes = []"
   ]
  },
  {
   "cell_type": "markdown",
   "metadata": {},
   "source": [
    "2. Lakukan iterasi dan pengecekan apakah requirements column ada di dalam actual columns?\n",
    "    - Jika iya :\n",
    "        - Cek apakah actual type *tidak sama dengan* expected type?\n",
    "            - Jika iya :\n",
    "                - Tambahkan ke dalam list\n",
    "            - Jika tidak :\n",
    "                - skip\n",
    "    - Jika tidak :\n",
    "        - Print skip check column"
   ]
  },
  {
   "cell_type": "code",
   "execution_count": 18,
   "metadata": {},
   "outputs": [
    {
     "name": "stdout",
     "output_type": "stream",
     "text": [
      "...Skip check column 'street' because this column doesn't exist in your data.\n",
      "...Skip check column 'city' because this column doesn't exist in your data.\n",
      "...Skip check column 'zip_code' because this column doesn't exist in your data.\n"
     ]
    }
   ],
   "source": [
    "# Lakukan iterasi untuk mendapatkan setiap kolom dan tipe data yang diperlukan\n",
    "for col, colType in reqColTypeDict.items():\n",
    "    # Cek apakah kolom requirements ada di dalam data aktual.\n",
    "    # Jika iya\n",
    "    if col in actCols:\n",
    "        # Dapatkan tipe data aktual pada kolom tersebut\n",
    "        actColType = rawSalesDataDF[col].dtype\n",
    "        # Cek apakah tipe data aktual TIDAK sama dengan requirements\n",
    "        if (actColType != colType):\n",
    "            # Jika tidak sesuai, tambahkan ke dalam list kosong yang telah dibuat sebelumnya\n",
    "            mismatchColTypes.append(col)\n",
    "\n",
    "    # Jika kolom requirements TIDAK ada di dalam data aktual.\n",
    "    else:\n",
    "        # Print \"...Skip check column '{nama_kolom}' because this column doesn't exist in your data.\"\n",
    "        print(f\"...Skip check column '{col}' because this column doesn't exist in your data.\")"
   ]
  },
  {
   "cell_type": "markdown",
   "metadata": {},
   "source": [
    "3. Lakukan pengecekan.\n",
    "    - Jika sesuai requirements :\n",
    "        - print : \"All checked columns type are match with requirements.\"\n",
    "\n",
    "    - Jika tidak sesuai requirements:\n",
    "        - print : \"There are some column that don't match\"\n",
    "        - print daftar kolom yang tipe datanya tidak sesuai dengan requirements."
   ]
  },
  {
   "cell_type": "code",
   "execution_count": 22,
   "metadata": {},
   "outputs": [
    {
     "name": "stdout",
     "output_type": "stream",
     "text": [
      "=> There are some columns that don't match :\n",
      "\t- Column type doesn't match the requirements :\n",
      "\t\t- order_id must be <class 'int'>\n",
      "\t\t- quantity_orderd must be <class 'int'>\n",
      "\t\t- order_date must be datetime64[ns]\n"
     ]
    }
   ],
   "source": [
    "# Cek jika ada kolom yang tipe datanya tidak match dengan requirements\n",
    "if len(mismatchColTypes) > 0:\n",
    "    # Print \"=> There are some columns that don't match :\"\n",
    "    print(\"=> There are some columns that don't match :\")\n",
    "\n",
    "    # Print \"\\t- Column type doesn't match the requirements :\"\n",
    "    print(\"\\t- Column type doesn't match the requirements :\")\n",
    "\n",
    "    # Lakukan iterasi (untuk mendapatkan nama kolom) pada list kolom yang tipe datanya tidak match\n",
    "    for col in mismatchColTypes:\n",
    "        # Print : \"{nama_kolom} must be {required_types}\"\n",
    "        print(f\"\\t\\t- {col} must be {reqColTypeDict[col]}\")\n",
    "\n",
    "# Jika semua kolom tipe datanya match dengan requirements\n",
    "else:\n",
    "    # Print \"=> All checked columns type are match with requirements.\"\n",
    "    print(\"\\n=> All checked columns type are match with requirements.\")"
   ]
  },
  {
   "cell_type": "markdown",
   "metadata": {},
   "source": [
    "4. Satukan code 1, 2, dan 3 yang telah dibuat sebelumnya"
   ]
  },
  {
   "cell_type": "code",
   "execution_count": 23,
   "metadata": {},
   "outputs": [
    {
     "name": "stdout",
     "output_type": "stream",
     "text": [
      "\u001b[1m>>>>> STEP 3 : CHECK DATA TYPES \u001b[0m\n",
      "...Skip check column 'street' because this column doesn't exist in your data.\n",
      "...Skip check column 'city' because this column doesn't exist in your data.\n",
      "...Skip check column 'zip_code' because this column doesn't exist in your data.\n",
      "=> There are some columns that don't match :\n",
      "\t- Column type doesn't match the requirements :\n",
      "\t\t- order_id must be <class 'int'>\n",
      "\t\t- quantity_orderd must be <class 'int'>\n",
      "\t\t- order_date must be datetime64[ns]\n"
     ]
    }
   ],
   "source": [
    "print(\"\\033[1m>>>>> STEP 3 : CHECK DATA TYPES \\033[0m\")\n",
    "# Mendapatkan kolom dan tipe data yang diperlukan untuk setiap kolom\n",
    "reqColTypeDict = columns_requirements()\n",
    "\n",
    "# Mendapatkan list kolom pada data aktual\n",
    "actCols = list(actCols)\n",
    "\n",
    "# Buat list kosong untuk menyimpan kolom yang tipe datanya tidak sesuai dengan rquirements\n",
    "mismatchColTypes = []\n",
    "\n",
    "# Lakukan iterasi untuk mendapatkan setiap kolom dan tipe data yang diperlukan\n",
    "for col, colType in reqColTypeDict.items():\n",
    "    # Cek apakah kolom requirements ada di dalam data aktual.\n",
    "    # Jika iya\n",
    "    if col in actCols:\n",
    "        # Dapatkan tipe data aktual pada kolom tersebut\n",
    "        actColType = rawSalesDataDF[col].dtype\n",
    "        # Cek apakah tipe data aktual TIDAK sama dengan requirements\n",
    "        if (actColType != colType):\n",
    "            # Jika tidak sesuai, tambahkan ke dalam list kosong yang telah dibuat sebelumnya\n",
    "            mismatchColTypes.append(col)\n",
    "\n",
    "    # Jika kolom requirements TIDAK ada di dalam data aktual.\n",
    "    else:\n",
    "        # Print \"...Skip check column '{nama_kolom}' because this column doesn't exist in your data.\"\n",
    "        print(f\"...Skip check column '{col}' because this column doesn't exist in your data.\")\n",
    "\n",
    "# Cek jika ada kolom yang tipe datanya tidak match dengan requirements\n",
    "if len(mismatchColTypes) > 0:\n",
    "    # Print \"=> There are some columns that don't match :\"\n",
    "    print(\"=> There are some columns that don't match :\")\n",
    "\n",
    "    # Print \"\\t- Column type doesn't match the requirements :\"\n",
    "    print(\"\\t- Column type doesn't match the requirements :\")\n",
    "\n",
    "    # Lakukan iterasi (untuk mendapatkan nama kolom) pada list kolom yang tipe datanya tidak match\n",
    "    for col in mismatchColTypes:\n",
    "        # Print : \"{nama_kolom} must be {required_types}\"\n",
    "        print(f\"\\t\\t- {col} must be {reqColTypeDict[col]}\")\n",
    "\n",
    "# Jika semua kolom tipe datanya match dengan requirements\n",
    "else:\n",
    "    # Print \"=> All checked columns type are match with requirements.\"\n",
    "    print(\"\\n=> All checked columns type are match with requirements.\")"
   ]
  },
  {
   "cell_type": "markdown",
   "metadata": {},
   "source": [
    "- Setelah membuat bagian-bagian pengecekan (**Data Shape**, **Columns**, dan **Data types**), selanjutnya membuat pipeline.\n",
    "- **Rangkum kode** yang telah dibuat sebelumnya kedalam **pipeline function** data validations.\n",
    "- Parameters :\n",
    "    - dataframe"
   ]
  },
  {
   "cell_type": "code",
   "execution_count": null,
   "metadata": {},
   "outputs": [],
   "source": [
    "#--------------------------------------------------------------------------------------\n",
    "# Fungsi untuk melakukan validasi data\n",
    "def data_validation(data):\n",
    "    print(\"\\033[1m>>>>> STEP 1 : CHECK DATA SHAPE \\033[0m\")\n",
    "\n",
    "    # Mendapatkan jumlah baris dan kolom pada data aktual\n",
    "    rowNum = data.shape[0]\n",
    "    colNum = data.shape[1]\n",
    "\n",
    "    # Menampilkan jumlah baris dan kolom\n",
    "    print(f\"=> Number of rows : {rowNum}\")\n",
    "    print(f\"=> Number of columns : {colNum}\")\n",
    "\n",
    "    # Menampilkan garis pemisah\n",
    "    print(\"-\"*100)\n",
    "\n",
    "    #--------------------------------------------------------------------------------------\n",
    "    print(\"\\033[1m>>>>> STEP 2 : CHECK COLUMNS \\033[0m\")\n",
    "\n",
    "    # Mendapatkan set kolom requirements\n",
    "    reqCols = set(columns_requirements().keys())\n",
    "\n",
    "    # Mendapatkan set kolom pada data aktual\n",
    "    actCols = set(data.columns)\n",
    "\n",
    "    # Memeriksa apakah kolom aktual sesuai dengan requirements.\n",
    "    # Memeriksa apakah kolom aktual sesuai dengan requirements.\n",
    "    # Jika sesuai\n",
    "    if actCols == reqCols:\n",
    "        # Print \"=> Columns match with requirements.\"\n",
    "        print(\"=> Columns match with requirements\")\n",
    "    # Jika tidak sesuai\n",
    "    else:\n",
    "        # Print \"=> Actual Column you should delete :\"\n",
    "        print(\"=> Actual Column you should delete :\")\n",
    "        # Iterasi pada list kolom data aktual untuk menampilkan kolom aktual yang seharusnya dihapus\n",
    "        for col in actCols:\n",
    "            # Cek apakah kolom pada data aktual TIDAK ADA di dalam requirements\n",
    "            if col not in reqCols:\n",
    "                # Tampilkan kolom yang TIDAK ADA di dalam requirements\n",
    "                print(f\"\\t- {col}\")\n",
    "        # Print \"=> Columns must exist in your data :\"\n",
    "        print(\"\\n=> Columns must exist in your data :\")\n",
    "        # Iterasi ada list kolom requirements untuk menampilkan kolom yang seharusnya ada dalam data aktual\n",
    "        for col in reqCols:\n",
    "            # Cek Apakah requirement kolom TIDAK ADA di dalam data aktual\n",
    "            if col not in actCols:\n",
    "                # Tampilkan kolom yang TIDAK ADA di dalam requirements\n",
    "                print(f\"\\t- {col}\")\n",
    "\n",
    "    print(\"\\n\\n\")\n",
    "    # Menampilkan garis pemisah\n",
    "    print(\"-\"*100)\n",
    "\n",
    "    #--------------------------------------------------------------------------------------\n",
    "    print(\"\\033[1m>>>>> STEP 3 : CHECK DATA TYPES \\033[0m\")\n",
    "    # Mendapatkan kolom dan tipe data yang diperlukan untuk setiap kolom\n",
    "    reqColTypeDict = columns_requirements()\n",
    "\n",
    "    # Mendapatkan list kolom pada data aktual\n",
    "    actCols = list(actCols)\n",
    "\n",
    "    # Buat list kosong untuk menyimpan kolom yang tipe datanya tidak sesuai dengan rquirements\n",
    "    mismatchColTypes = []\n",
    "\n",
    "    # Lakukan iterasi untuk mendapatkan setiap kolom dan tipe data yang diperlukan\n",
    "    for col, colType in reqColTypeDict.items():\n",
    "        # Cek apakah kolom requirements ada di dalam data aktual.\n",
    "        # Jika iya\n",
    "        if col in actCols:\n",
    "            # Dapatkan tipe data aktual pada kolom tersebut\n",
    "            actColType = data[col].dtype\n",
    "            # Cek apakah tipe data aktual TIDAK sama dengan requirements\n",
    "            if (actColType != colType):\n",
    "                # Jika tidak sesuai, tambahkan ke dalam list kosong yang telah dibuat sebelumnya\n",
    "                mismatchColTypes.append(col)\n",
    "\n",
    "        # Jika kolom requirements TIDAK ada di dalam data aktual.\n",
    "        else:\n",
    "            # Print \"...Skip check column '{nama_kolom}' because this column doesn't exist in your data.\"\n",
    "            print(f\"...Skip check column '{col}' because this column doesn't exist in your data.\")\n",
    "\n",
    "    # Cek jika ada kolom yang tipe datanya tidak match dengan requirements\n",
    "    if len(mismatchColTypes) > 0:\n",
    "        # Print \"=> There are some columns that don't match :\"\n",
    "        print(\"=> There are some columns that don't match :\")\n",
    "\n",
    "        # Print \"\\t- Column type doesn't match the requirements :\"\n",
    "        print(\"\\t- Column type doesn't match the requirements :\")\n",
    "\n",
    "        # Lakukan iterasi (untuk mendapatkan nama kolom) pada list kolom yang tipe datanya tidak match\n",
    "        for col in mismatchColTypes:\n",
    "            # Print : \"{nama_kolom} must be {required_types}\"\n",
    "            print(f\"\\t\\t- {col} must be {reqColTypeDict[col]}\")\n",
    "\n",
    "    # Jika semua kolom tipe datanya match dengan requirements\n",
    "    else:\n",
    "        # Print \"=> All checked columns type are match with requirements.\"\n",
    "        print(\"\\n=> All checked columns type are match with requirements.\")\n",
    "\n",
    "    print(\"\\n\\n\")\n",
    "    # Menampilkan garis pemisah\n",
    "    print(\"-\"*100)"
   ]
  },
  {
   "cell_type": "markdown",
   "metadata": {},
   "source": [
    "Checking"
   ]
  },
  {
   "cell_type": "code",
   "execution_count": 1,
   "metadata": {},
   "outputs": [
    {
     "data": {
      "text/html": [
       "<div>\n",
       "<style scoped>\n",
       "    .dataframe tbody tr th:only-of-type {\n",
       "        vertical-align: middle;\n",
       "    }\n",
       "\n",
       "    .dataframe tbody tr th {\n",
       "        vertical-align: top;\n",
       "    }\n",
       "\n",
       "    .dataframe thead th {\n",
       "        text-align: right;\n",
       "    }\n",
       "</style>\n",
       "<table border=\"1\" class=\"dataframe\">\n",
       "  <thead>\n",
       "    <tr style=\"text-align: right;\">\n",
       "      <th></th>\n",
       "      <th>order_id</th>\n",
       "      <th>product</th>\n",
       "      <th>quantity_orderd</th>\n",
       "      <th>price_each</th>\n",
       "      <th>order_date</th>\n",
       "      <th>purchase_address</th>\n",
       "    </tr>\n",
       "  </thead>\n",
       "  <tbody>\n",
       "    <tr>\n",
       "      <th>0</th>\n",
       "      <td>295665.0</td>\n",
       "      <td>Macbook Pro Laptop</td>\n",
       "      <td>1.0</td>\n",
       "      <td>1700.00</td>\n",
       "      <td>12/30/19 00:01</td>\n",
       "      <td>136 Church St, New York City, NY 10001</td>\n",
       "    </tr>\n",
       "    <tr>\n",
       "      <th>1</th>\n",
       "      <td>295666.0</td>\n",
       "      <td>LG Washing Machine</td>\n",
       "      <td>1.0</td>\n",
       "      <td>600.00</td>\n",
       "      <td>12/29/19 07:03</td>\n",
       "      <td>562 2nd St, New York City, NY 10001</td>\n",
       "    </tr>\n",
       "    <tr>\n",
       "      <th>2</th>\n",
       "      <td>295667.0</td>\n",
       "      <td>USB-C Charging Cable</td>\n",
       "      <td>1.0</td>\n",
       "      <td>11.95</td>\n",
       "      <td>12/12/19 18:21</td>\n",
       "      <td>277 Main St, New York City, NY 10001</td>\n",
       "    </tr>\n",
       "    <tr>\n",
       "      <th>3</th>\n",
       "      <td>295668.0</td>\n",
       "      <td>27in FHD Monitor</td>\n",
       "      <td>1.0</td>\n",
       "      <td>149.99</td>\n",
       "      <td>12/22/19 15:13</td>\n",
       "      <td>410 6th St, San Francisco, CA 94016</td>\n",
       "    </tr>\n",
       "    <tr>\n",
       "      <th>4</th>\n",
       "      <td>295669.0</td>\n",
       "      <td>USB-C Charging Cable</td>\n",
       "      <td>1.0</td>\n",
       "      <td>11.95</td>\n",
       "      <td>12/18/19 12:38</td>\n",
       "      <td>43 Hill St, Atlanta, GA 30301</td>\n",
       "    </tr>\n",
       "  </tbody>\n",
       "</table>\n",
       "</div>"
      ],
      "text/plain": [
       "   order_id               product  quantity_orderd  price_each  \\\n",
       "0  295665.0    Macbook Pro Laptop              1.0     1700.00   \n",
       "1  295666.0    LG Washing Machine              1.0      600.00   \n",
       "2  295667.0  USB-C Charging Cable              1.0       11.95   \n",
       "3  295668.0      27in FHD Monitor              1.0      149.99   \n",
       "4  295669.0  USB-C Charging Cable              1.0       11.95   \n",
       "\n",
       "       order_date                        purchase_address  \n",
       "0  12/30/19 00:01  136 Church St, New York City, NY 10001  \n",
       "1  12/29/19 07:03     562 2nd St, New York City, NY 10001  \n",
       "2  12/12/19 18:21    277 Main St, New York City, NY 10001  \n",
       "3  12/22/19 15:13     410 6th St, San Francisco, CA 94016  \n",
       "4  12/18/19 12:38           43 Hill St, Atlanta, GA 30301  "
      ]
     },
     "execution_count": 1,
     "metadata": {},
     "output_type": "execute_result"
    }
   ],
   "source": [
    "# Import library\n",
    "import pandas as pd\n",
    "\n",
    "# Read Data\n",
    "rawSalesDataDF = pd.read_csv('sales_data.csv')\n",
    "\n",
    "# Get top 5 data\n",
    "rawSalesDataDF.head()"
   ]
  },
  {
   "cell_type": "code",
   "execution_count": 2,
   "metadata": {},
   "outputs": [],
   "source": [
    "# Define columns_requrements\n",
    "def columns_requirements():\n",
    "    columns = {'order_id' : int,\n",
    "               'product' : object,\n",
    "               'quantity_orderd' : int,\n",
    "               'price_each' : float,\n",
    "               'order_date' : 'datetime64[ns]',\n",
    "               'street' : object,\n",
    "               'city' : object,\n",
    "               'zip_code' : object\n",
    "               }\n",
    "    return columns"
   ]
  },
  {
   "cell_type": "code",
   "execution_count": 5,
   "metadata": {},
   "outputs": [],
   "source": [
    "#--------------------------------------------------------------------------------------\n",
    "# Fungsi untuk melakukan validasi data\n",
    "def data_validation(data):\n",
    "    print(\"\\033[1m>>>>> STEP 1 : CHECK DATA SHAPE \\033[0m\")\n",
    "\n",
    "    # Mendapatkan jumlah baris dan kolom pada data aktual\n",
    "    rowNum = data.shape[0]\n",
    "    colNum = data.shape[1]\n",
    "\n",
    "    # Menampilkan jumlah baris dan kolom\n",
    "    print(f\"=> Number of rows : {rowNum}\")\n",
    "    print(f\"=> Number of columns : {colNum}\")\n",
    "\n",
    "    print(\"\\n\\n\")\n",
    "    # Menampilkan garis pemisah\n",
    "    print(\"-\"*100)\n",
    "\n",
    "    #--------------------------------------------------------------------------------------\n",
    "    print(\"\\033[1m>>>>> STEP 2 : CHECK COLUMNS \\033[0m\")\n",
    "\n",
    "    # Mendapatkan set kolom requirements\n",
    "    reqCols = set(columns_requirements().keys())\n",
    "\n",
    "    # Mendapatkan set kolom pada data aktual\n",
    "    actCols = set(data.columns)\n",
    "\n",
    "    # Memeriksa apakah kolom aktual sesuai dengan requirements.\n",
    "    # Memeriksa apakah kolom aktual sesuai dengan requirements.\n",
    "    # Jika sesuai\n",
    "    if actCols == reqCols:\n",
    "        # Print \"=> Columns match with requirements.\"\n",
    "        print(\"=> Columns match with requirements\")\n",
    "    # Jika tidak sesuai\n",
    "    else:\n",
    "        # Print \"=> Actual Column you should delete :\"\n",
    "        print(\"=> Actual Column you should delete :\")\n",
    "        # Iterasi pada list kolom data aktual untuk menampilkan kolom aktual yang seharusnya dihapus\n",
    "        for col in actCols:\n",
    "            # Cek apakah kolom pada data aktual TIDAK ADA di dalam requirements\n",
    "            if col not in reqCols:\n",
    "                # Tampilkan kolom yang TIDAK ADA di dalam requirements\n",
    "                print(f\"\\t- {col}\")\n",
    "        # Print \"=> Columns must exist in your data :\"\n",
    "        print(\"\\n=> Columns must exist in your data :\")\n",
    "        # Iterasi ada list kolom requirements untuk menampilkan kolom yang seharusnya ada dalam data aktual\n",
    "        for col in reqCols:\n",
    "            # Cek Apakah requirement kolom TIDAK ADA di dalam data aktual\n",
    "            if col not in actCols:\n",
    "                # Tampilkan kolom yang TIDAK ADA di dalam requirements\n",
    "                print(f\"\\t- {col}\")\n",
    "\n",
    "    print(\"\\n\\n\")\n",
    "    # Menampilkan garis pemisah\n",
    "    print(\"-\"*100)\n",
    "\n",
    "    #--------------------------------------------------------------------------------------\n",
    "    print(\"\\033[1m>>>>> STEP 3 : CHECK DATA TYPES \\033[0m\")\n",
    "    # Mendapatkan kolom dan tipe data yang diperlukan untuk setiap kolom\n",
    "    reqColTypeDict = columns_requirements()\n",
    "\n",
    "    # Mendapatkan list kolom pada data aktual\n",
    "    actCols = list(actCols)\n",
    "\n",
    "    # Buat list kosong untuk menyimpan kolom yang tipe datanya tidak sesuai dengan rquirements\n",
    "    mismatchColTypes = []\n",
    "\n",
    "    # Lakukan iterasi untuk mendapatkan setiap kolom dan tipe data yang diperlukan\n",
    "    for col, colType in reqColTypeDict.items():\n",
    "        # Cek apakah kolom requirements ada di dalam data aktual.\n",
    "        # Jika iya\n",
    "        if col in actCols:\n",
    "            # Dapatkan tipe data aktual pada kolom tersebut\n",
    "            actColType = data[col].dtype\n",
    "            # Cek apakah tipe data aktual TIDAK sama dengan requirements\n",
    "            if (actColType != colType):\n",
    "                # Jika tidak sesuai, tambahkan ke dalam list kosong yang telah dibuat sebelumnya\n",
    "                mismatchColTypes.append(col)\n",
    "\n",
    "        # Jika kolom requirements TIDAK ada di dalam data aktual.\n",
    "        else:\n",
    "            # Print \"...Skip check column '{nama_kolom}' because this column doesn't exist in your data.\"\n",
    "            print(f\"...Skip check column '{col}' because this column doesn't exist in your data.\")\n",
    "\n",
    "    # Cek jika ada kolom yang tipe datanya tidak match dengan requirements\n",
    "    if len(mismatchColTypes) > 0:\n",
    "        # Print \"=> There are some columns that don't match :\"\n",
    "        print(\"=> There are some columns that don't match :\")\n",
    "\n",
    "        # Print \"\\t- Column type doesn't match the requirements :\"\n",
    "        print(\"\\t- Column type doesn't match the requirements :\")\n",
    "\n",
    "        # Lakukan iterasi (untuk mendapatkan nama kolom) pada list kolom yang tipe datanya tidak match\n",
    "        for col in mismatchColTypes:\n",
    "            # Print : \"{nama_kolom} must be {required_types}\"\n",
    "            print(f\"\\t\\t- {col} must be {reqColTypeDict[col]}\")\n",
    "\n",
    "    # Jika semua kolom tipe datanya match dengan requirements\n",
    "    else:\n",
    "        # Print \"=> All checked columns type are match with requirements.\"\n",
    "        print(\"\\n=> All checked columns type are match with requirements.\")\n",
    "\n",
    "    print(\"\\n\\n\")\n",
    "    # Menampilkan garis pemisah\n",
    "    print(\"-\"*100)"
   ]
  },
  {
   "cell_type": "code",
   "execution_count": 6,
   "metadata": {},
   "outputs": [
    {
     "name": "stdout",
     "output_type": "stream",
     "text": [
      "\u001b[1m>>>>> STEP 1 : CHECK DATA SHAPE \u001b[0m\n",
      "=> Number of rows : 25069\n",
      "=> Number of columns : 6\n",
      "\n",
      "\n",
      "\n",
      "----------------------------------------------------------------------------------------------------\n",
      "\u001b[1m>>>>> STEP 2 : CHECK COLUMNS \u001b[0m\n",
      "=> Actual Column you should delete :\n",
      "\t- purchase_address\n",
      "\n",
      "=> Columns must exist in your data :\n",
      "\t- street\n",
      "\t- city\n",
      "\t- zip_code\n",
      "\n",
      "\n",
      "\n",
      "----------------------------------------------------------------------------------------------------\n",
      "\u001b[1m>>>>> STEP 3 : CHECK DATA TYPES \u001b[0m\n",
      "...Skip check column 'street' because this column doesn't exist in your data.\n",
      "...Skip check column 'city' because this column doesn't exist in your data.\n",
      "...Skip check column 'zip_code' because this column doesn't exist in your data.\n",
      "=> There are some columns that don't match :\n",
      "\t- Column type doesn't match the requirements :\n",
      "\t\t- order_id must be <class 'int'>\n",
      "\t\t- quantity_orderd must be <class 'int'>\n",
      "\t\t- order_date must be datetime64[ns]\n",
      "\n",
      "\n",
      "\n",
      "----------------------------------------------------------------------------------------------------\n"
     ]
    }
   ],
   "source": [
    "# Run the pipeline\n",
    "data_validation(rawSalesDataDF)"
   ]
  },
  {
   "cell_type": "code",
   "execution_count": null,
   "metadata": {},
   "outputs": [],
   "source": [
    "# new data\n"
   ]
  },
  {
   "cell_type": "markdown",
   "metadata": {},
   "source": [
    "- Sebelumnya anda telah membuat pipeline data validations dan sudah melakukan pengecekan :\n",
    "    - `Data Shape`\n",
    "    - `Columns`\n",
    "    - `Data Type`\n",
    "- Sekarang anda diminta untuk melanjutkan pipeline data validaions yang telah dibuat sebelumnya:\n",
    "    - Check **Missing Value**\n",
    "    - Check **Duplicates Data**"
   ]
  },
  {
   "cell_type": "markdown",
   "metadata": {},
   "source": [
    "- Cek **Missing Value**\n",
    "- Berikut langkah-langkah pengerjaannya :"
   ]
  },
  {
   "cell_type": "markdown",
   "metadata": {},
   "source": [
    "1. Lakukan :\n",
    "    - Dapatkan list kolom aktual.\n",
    "    - Buat dictionary untuk menyimpan informasi persentase dan nama kolom yang mempunyai missing value."
   ]
  },
  {
   "cell_type": "code",
   "execution_count": null,
   "metadata": {},
   "outputs": [],
   "source": [
    "print(\"\\033[1m>>>>> STEP 4 : CHECK MISSING VALUES \\033[0m\")\n",
    "# Mendapatkan list kolom aktual (bankchurners)\n",
    "...\n",
    "# Membuat dictionary kosong untuk menyimpan informasi nama kolom dan persentase nilai missing valuenya\n",
    "..."
   ]
  }
 ],
 "metadata": {
  "kernelspec": {
   "display_name": "base",
   "language": "python",
   "name": "python3"
  },
  "language_info": {
   "codemirror_mode": {
    "name": "ipython",
    "version": 3
   },
   "file_extension": ".py",
   "mimetype": "text/x-python",
   "name": "python",
   "nbconvert_exporter": "python",
   "pygments_lexer": "ipython3",
   "version": "3.11.4"
  }
 },
 "nbformat": 4,
 "nbformat_minor": 2
}
