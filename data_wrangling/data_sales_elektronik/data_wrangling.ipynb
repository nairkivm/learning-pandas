{
 "cells": [
  {
   "cell_type": "code",
   "execution_count": 1,
   "metadata": {},
   "outputs": [],
   "source": [
    "# Import packages\n",
    "import pandas as pd"
   ]
  },
  {
   "cell_type": "markdown",
   "metadata": {},
   "source": [
    "- Read sales_data_2019.csv dataset menggunakan pandas"
   ]
  },
  {
   "cell_type": "code",
   "execution_count": 4,
   "metadata": {},
   "outputs": [],
   "source": [
    "salesDataframe = pd.read_csv('data/sales_data_2019.csv')"
   ]
  },
  {
   "cell_type": "markdown",
   "metadata": {},
   "source": [
    "- Hilangkan kolom `Order ID` dari data sales tersebut\n",
    "- Atur ulang urutan dari kolom tersebut menjadi berikut:\n",
    "    - `Order Date`\n",
    "    - `Product`\n",
    "    - `Quantity Ordered`\n",
    "    - `Price Each`\n",
    "    - `Purchase Address`"
   ]
  },
  {
   "cell_type": "code",
   "execution_count": 5,
   "metadata": {},
   "outputs": [],
   "source": [
    "salesColumns = [\n",
    "    'Order Date',\n",
    "    'Product',\n",
    "    'Quantity Ordered',\n",
    "    'Price Each',\n",
    "    'Purchase Address'\n",
    "]\n",
    "salesDataframe = salesDataframe[salesColumns]"
   ]
  },
  {
   "cell_type": "markdown",
   "metadata": {},
   "source": [
    "- Lakukan proses slicing data dimulai dari index `150` sampai dengan `4213`"
   ]
  },
  {
   "cell_type": "code",
   "execution_count": 10,
   "metadata": {},
   "outputs": [],
   "source": [
    "slicedSalesDataFrame = salesDataframe[150:4213]\n",
    "slicedSalesDataFrame"
   ]
  },
  {
   "cell_type": "markdown",
   "metadata": {},
   "source": [
    "- Lalu, lakukan proses filtering data sesuai dengan ketentuan berikut:\n",
    "    - Jumlah dari barang yang di order lebih dari `2` atau\n",
    "    - Harga dari masing - masing barang adalah lebih dari sama dengan `125`"
   ]
  },
  {
   "cell_type": "code",
   "execution_count": 11,
   "metadata": {},
   "outputs": [
    {
     "data": {
      "text/html": [
       "<div>\n",
       "<style scoped>\n",
       "    .dataframe tbody tr th:only-of-type {\n",
       "        vertical-align: middle;\n",
       "    }\n",
       "\n",
       "    .dataframe tbody tr th {\n",
       "        vertical-align: top;\n",
       "    }\n",
       "\n",
       "    .dataframe thead th {\n",
       "        text-align: right;\n",
       "    }\n",
       "</style>\n",
       "<table border=\"1\" class=\"dataframe\">\n",
       "  <thead>\n",
       "    <tr style=\"text-align: right;\">\n",
       "      <th></th>\n",
       "      <th>Order Date</th>\n",
       "      <th>Product</th>\n",
       "      <th>Quantity Ordered</th>\n",
       "      <th>Price Each</th>\n",
       "      <th>Purchase Address</th>\n",
       "    </tr>\n",
       "  </thead>\n",
       "  <tbody>\n",
       "    <tr>\n",
       "      <th>151</th>\n",
       "      <td>12/11/19 19:45</td>\n",
       "      <td>34in Ultrawide Monitor</td>\n",
       "      <td>1.0</td>\n",
       "      <td>379.99</td>\n",
       "      <td>838 Ridge St, San Francisco, CA 94016</td>\n",
       "    </tr>\n",
       "    <tr>\n",
       "      <th>153</th>\n",
       "      <td>12/20/19 02:31</td>\n",
       "      <td>Apple Airpods Headphones</td>\n",
       "      <td>1.0</td>\n",
       "      <td>150.00</td>\n",
       "      <td>705 4th St, Los Angeles, CA 90001</td>\n",
       "    </tr>\n",
       "    <tr>\n",
       "      <th>158</th>\n",
       "      <td>12/28/19 12:33</td>\n",
       "      <td>27in FHD Monitor</td>\n",
       "      <td>1.0</td>\n",
       "      <td>149.99</td>\n",
       "      <td>602 Ridge St, San Francisco, CA 94016</td>\n",
       "    </tr>\n",
       "    <tr>\n",
       "      <th>163</th>\n",
       "      <td>12/24/19 08:29</td>\n",
       "      <td>AA Batteries (4-pack)</td>\n",
       "      <td>3.0</td>\n",
       "      <td>3.84</td>\n",
       "      <td>987 Cherry St, Los Angeles, CA 90001</td>\n",
       "    </tr>\n",
       "    <tr>\n",
       "      <th>172</th>\n",
       "      <td>12/04/19 13:53</td>\n",
       "      <td>Google Phone</td>\n",
       "      <td>1.0</td>\n",
       "      <td>600.00</td>\n",
       "      <td>307 Wilson St, San Francisco, CA 94016</td>\n",
       "    </tr>\n",
       "    <tr>\n",
       "      <th>...</th>\n",
       "      <td>...</td>\n",
       "      <td>...</td>\n",
       "      <td>...</td>\n",
       "      <td>...</td>\n",
       "      <td>...</td>\n",
       "    </tr>\n",
       "    <tr>\n",
       "      <th>4193</th>\n",
       "      <td>12/21/19 10:26</td>\n",
       "      <td>AA Batteries (4-pack)</td>\n",
       "      <td>3.0</td>\n",
       "      <td>3.84</td>\n",
       "      <td>844 4th St, New York City, NY 10001</td>\n",
       "    </tr>\n",
       "    <tr>\n",
       "      <th>4198</th>\n",
       "      <td>12/20/19 11:27</td>\n",
       "      <td>27in FHD Monitor</td>\n",
       "      <td>1.0</td>\n",
       "      <td>149.99</td>\n",
       "      <td>117 Highland St, San Francisco, CA 94016</td>\n",
       "    </tr>\n",
       "    <tr>\n",
       "      <th>4204</th>\n",
       "      <td>12/31/19 20:49</td>\n",
       "      <td>Vareebadd Phone</td>\n",
       "      <td>1.0</td>\n",
       "      <td>400.00</td>\n",
       "      <td>327 Hickory St, San Francisco, CA 94016</td>\n",
       "    </tr>\n",
       "    <tr>\n",
       "      <th>4207</th>\n",
       "      <td>12/29/19 19:37</td>\n",
       "      <td>Macbook Pro Laptop</td>\n",
       "      <td>1.0</td>\n",
       "      <td>1700.00</td>\n",
       "      <td>38 Sunset St, San Francisco, CA 94016</td>\n",
       "    </tr>\n",
       "    <tr>\n",
       "      <th>4212</th>\n",
       "      <td>12/10/19 10:04</td>\n",
       "      <td>Flatscreen TV</td>\n",
       "      <td>1.0</td>\n",
       "      <td>300.00</td>\n",
       "      <td>278 Jackson St, New York City, NY 10001</td>\n",
       "    </tr>\n",
       "  </tbody>\n",
       "</table>\n",
       "<p>1513 rows × 5 columns</p>\n",
       "</div>"
      ],
      "text/plain": [
       "          Order Date                   Product  Quantity Ordered  Price Each  \\\n",
       "151   12/11/19 19:45    34in Ultrawide Monitor               1.0      379.99   \n",
       "153   12/20/19 02:31  Apple Airpods Headphones               1.0      150.00   \n",
       "158   12/28/19 12:33          27in FHD Monitor               1.0      149.99   \n",
       "163   12/24/19 08:29     AA Batteries (4-pack)               3.0        3.84   \n",
       "172   12/04/19 13:53              Google Phone               1.0      600.00   \n",
       "...              ...                       ...               ...         ...   \n",
       "4193  12/21/19 10:26     AA Batteries (4-pack)               3.0        3.84   \n",
       "4198  12/20/19 11:27          27in FHD Monitor               1.0      149.99   \n",
       "4204  12/31/19 20:49           Vareebadd Phone               1.0      400.00   \n",
       "4207  12/29/19 19:37        Macbook Pro Laptop               1.0     1700.00   \n",
       "4212  12/10/19 10:04             Flatscreen TV               1.0      300.00   \n",
       "\n",
       "                              Purchase Address  \n",
       "151      838 Ridge St, San Francisco, CA 94016  \n",
       "153          705 4th St, Los Angeles, CA 90001  \n",
       "158      602 Ridge St, San Francisco, CA 94016  \n",
       "163       987 Cherry St, Los Angeles, CA 90001  \n",
       "172     307 Wilson St, San Francisco, CA 94016  \n",
       "...                                        ...  \n",
       "4193       844 4th St, New York City, NY 10001  \n",
       "4198  117 Highland St, San Francisco, CA 94016  \n",
       "4204   327 Hickory St, San Francisco, CA 94016  \n",
       "4207     38 Sunset St, San Francisco, CA 94016  \n",
       "4212   278 Jackson St, New York City, NY 10001  \n",
       "\n",
       "[1513 rows x 5 columns]"
      ]
     },
     "execution_count": 11,
     "metadata": {},
     "output_type": "execute_result"
    }
   ],
   "source": [
    "filteredSalesDataframe = (\n",
    "    slicedSalesDataFrame[\n",
    "        (slicedSalesDataFrame['Quantity Ordered'] > 2) |\n",
    "        (slicedSalesDataFrame['Price Each'] >= 125)\n",
    "    ]\n",
    ")\n",
    "filteredSalesDataframe"
   ]
  },
  {
   "cell_type": "markdown",
   "metadata": {},
   "source": [
    "- Export data menjadi bentuk file csv dengan nama `new_sales_data.csv`\n",
    "- Lalu, ketika export data jangan simpan index dari data sebelumnya"
   ]
  },
  {
   "cell_type": "code",
   "execution_count": 13,
   "metadata": {},
   "outputs": [],
   "source": [
    "filteredSalesDataframe.to_csv('data/new_sales_data_2019.csv', index = False)"
   ]
  },
  {
   "cell_type": "code",
   "execution_count": null,
   "metadata": {},
   "outputs": [],
   "source": []
  }
 ],
 "metadata": {
  "kernelspec": {
   "display_name": "base",
   "language": "python",
   "name": "python3"
  },
  "language_info": {
   "codemirror_mode": {
    "name": "ipython",
    "version": 3
   },
   "file_extension": ".py",
   "mimetype": "text/x-python",
   "name": "python",
   "nbconvert_exporter": "python",
   "pygments_lexer": "ipython3",
   "version": "3.11.4"
  }
 },
 "nbformat": 4,
 "nbformat_minor": 2
}
