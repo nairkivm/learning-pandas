{
 "cells": [
  {
   "cell_type": "code",
   "execution_count": 1,
   "metadata": {},
   "outputs": [],
   "source": [
    "import pandas as pd\n",
    "from tabulate import tabulate\n",
    "import warnings \n",
    "  \n",
    "warnings.filterwarnings('ignore')"
   ]
  },
  {
   "cell_type": "markdown",
   "metadata": {},
   "source": [
    "## 1. Data Source"
   ]
  },
  {
   "cell_type": "markdown",
   "metadata": {},
   "source": [
    "### 1.1. Data Source I : API\n",
    "- Data `city` : https://raw.githubusercontent.com/rahilpacmann/case-data-wrangling-api/main/city.csv"
   ]
  },
  {
   "cell_type": "code",
   "execution_count": 2,
   "metadata": {},
   "outputs": [],
   "source": [
    "city_raw = \"https://raw.githubusercontent.com/rahilpacmann/case-data-wrangling-api/main/city.csv\""
   ]
  },
  {
   "cell_type": "markdown",
   "metadata": {},
   "source": [
    "### 1.2. Data Source II : API\n",
    "- Data `country` : https://raw.githubusercontent.com/rahilpacmann/case-data-wrangling-api/main/country.csv"
   ]
  },
  {
   "cell_type": "code",
   "execution_count": 3,
   "metadata": {},
   "outputs": [],
   "source": [
    "country_raw = \"https://raw.githubusercontent.com/rahilpacmann/case-data-wrangling-api/main/country.csv\""
   ]
  },
  {
   "cell_type": "markdown",
   "metadata": {},
   "source": [
    "### 1.3. Data Source III : Database\n",
    "- Jika sudah mempersiapkan data source 3 buat koneksi ke database tersebut.\n",
    "    - dbname = \"dvdrental\"\n",
    "    - user = \"postgres\"\n",
    "    - password = \"qwerty123\"\n",
    "    - host = \"localhost\"\n",
    "    - port = \"5433\"    "
   ]
  },
  {
   "cell_type": "code",
   "execution_count": 13,
   "metadata": {},
   "outputs": [],
   "source": [
    "# Your code here\n",
    "# Buat koneksi ke database\n",
    "import psycopg2\n",
    "from sqlalchemy import create_engine\n",
    "\n",
    "dbname = \"dvdrental\"\n",
    "user = \"postgres\"\n",
    "password = \"qwerty123\"\n",
    "host = \"localhost\"\n",
    "port = \"5433\"\n",
    "\n",
    "engine_str = f\"postgresql://{user}:{password}@{host}:{port}/{dbname}\"\n",
    "engine = create_engine(engine_str)"
   ]
  },
  {
   "cell_type": "markdown",
   "metadata": {},
   "source": [
    "### 1.4. Requirements (JSON)\n",
    "- Requirements :\n",
    "    - https://rahilpacmann.github.io/case-data-wrangling-api/requirements_table.json\n",
    "- Requirements tersebut meliputi :\n",
    "    - Nama tabel\n",
    "    - Nama kolom pada setiap tabel\n",
    "    - Tipe data pada setiap tabel"
   ]
  },
  {
   "cell_type": "code",
   "execution_count": 5,
   "metadata": {},
   "outputs": [
    {
     "name": "stdout",
     "output_type": "stream",
     "text": [
      "{'actor': [{'column_name': 'actor_id', 'data_type': 'int64'}, {'column_name': 'last_update', 'data_type': 'datetime64[ns]'}, {'column_name': 'first_name', 'data_type': 'object'}, {'column_name': 'last_name', 'data_type': 'object'}], 'store': [{'column_name': 'store_id', 'data_type': 'int64'}, {'column_name': 'manager_staff_id', 'data_type': 'int64'}, {'column_name': 'address_id', 'data_type': 'int64'}, {'column_name': 'last_update', 'data_type': 'datetime64[ns]'}], 'address': [{'column_name': 'last_update', 'data_type': 'datetime64[ns]'}, {'column_name': 'city_id', 'data_type': 'int64'}, {'column_name': 'address_id', 'data_type': 'int64'}, {'column_name': 'district', 'data_type': 'object'}, {'column_name': 'phone', 'data_type': 'object'}, {'column_name': 'postal_code', 'data_type': 'object'}, {'column_name': 'address', 'data_type': 'object'}, {'column_name': 'address2', 'data_type': 'object'}], 'category': [{'column_name': 'category_id', 'data_type': 'int64'}, {'column_name': 'last_update', 'data_type': 'datetime64[ns]'}, {'column_name': 'name', 'data_type': 'object'}], 'city': [{'column_name': 'city_id', 'data_type': 'int64'}, {'column_name': 'country_id', 'data_type': 'int64'}, {'column_name': 'last_update', 'data_type': 'datetime64[ns]'}, {'column_name': 'city', 'data_type': 'object'}], 'country': [{'column_name': 'country_id', 'data_type': 'int64'}, {'column_name': 'last_update', 'data_type': 'datetime64[ns]'}, {'column_name': 'country', 'data_type': 'object'}], 'customer': [{'column_name': 'active', 'data_type': 'int64'}, {'column_name': 'store_id', 'data_type': 'int64'}, {'column_name': 'create_date', 'data_type': 'datetime64[ns]'}, {'column_name': 'last_update', 'data_type': 'datetime64[ns]'}, {'column_name': 'customer_id', 'data_type': 'int64'}, {'column_name': 'address_id', 'data_type': 'int64'}, {'column_name': 'activebool', 'data_type': 'bool'}, {'column_name': 'first_name', 'data_type': 'object'}, {'column_name': 'last_name', 'data_type': 'object'}, {'column_name': 'email', 'data_type': 'object'}], 'film_actor': [{'column_name': 'actor_id', 'data_type': 'int64'}, {'column_name': 'film_id', 'data_type': 'int64'}, {'column_name': 'last_update', 'data_type': 'datetime64[ns]'}], 'film_category': [{'column_name': 'film_id', 'data_type': 'int64'}, {'column_name': 'category_id', 'data_type': 'int64'}, {'column_name': 'last_update', 'data_type': 'datetime64[ns]'}], 'inventory': [{'column_name': 'inventory_id', 'data_type': 'int64'}, {'column_name': 'film_id', 'data_type': 'int64'}, {'column_name': 'store_id', 'data_type': 'int64'}, {'column_name': 'last_update', 'data_type': 'datetime64[ns]'}], 'language': [{'column_name': 'language_id', 'data_type': 'int64'}, {'column_name': 'last_update', 'data_type': 'datetime64[ns]'}, {'column_name': 'name', 'data_type': 'object'}], 'rental': [{'column_name': 'rental_id', 'data_type': 'int64'}, {'column_name': 'rental_date', 'data_type': 'datetime64[ns]'}, {'column_name': 'inventory_id', 'data_type': 'int64'}, {'column_name': 'customer_id', 'data_type': 'int64'}, {'column_name': 'return_date', 'data_type': 'datetime64[ns]'}, {'column_name': 'staff_id', 'data_type': 'int64'}, {'column_name': 'last_update', 'data_type': 'datetime64[ns]'}], 'staff': [{'column_name': 'picture', 'data_type': 'object'}, {'column_name': 'address_id', 'data_type': 'int64'}, {'column_name': 'store_id', 'data_type': 'int64'}, {'column_name': 'active', 'data_type': 'bool'}, {'column_name': 'last_update', 'data_type': 'datetime64[ns]'}, {'column_name': 'staff_id', 'data_type': 'int64'}, {'column_name': 'first_name', 'data_type': 'object'}, {'column_name': 'last_name', 'data_type': 'object'}, {'column_name': 'password', 'data_type': 'object'}, {'column_name': 'email', 'data_type': 'object'}, {'column_name': 'username', 'data_type': 'object'}], 'payment': [{'column_name': 'payment_id', 'data_type': 'int64'}, {'column_name': 'customer_id', 'data_type': 'int64'}, {'column_name': 'staff_id', 'data_type': 'int64'}, {'column_name': 'rental_id', 'data_type': 'int64'}, {'column_name': 'amount', 'data_type': 'float64'}, {'column_name': 'payment_date', 'data_type': 'datetime64[ns]'}], 'film': [{'column_name': 'fulltext', 'data_type': 'object'}, {'column_name': 'rating', 'data_type': 'object'}, {'column_name': 'last_update', 'data_type': 'datetime64[ns]'}, {'column_name': 'film_id', 'data_type': 'int64'}, {'column_name': 'release_year', 'data_type': 'int64'}, {'column_name': 'language_id', 'data_type': 'int64'}, {'column_name': 'rental_duration', 'data_type': 'int64'}, {'column_name': 'rental_rate', 'data_type': 'float64'}, {'column_name': 'length', 'data_type': 'int64'}, {'column_name': 'replacement_cost', 'data_type': 'float64'}, {'column_name': 'title', 'data_type': 'object'}, {'column_name': 'description', 'data_type': 'object'}, {'column_name': 'special_features', 'data_type': 'object'}]}\n"
     ]
    }
   ],
   "source": [
    "requirements_table_url = 'https://rahilpacmann.github.io/case-data-wrangling-api/requirements_table.json'\n",
    "\n",
    "# Your code here\n",
    "import urllib.request, json \n",
    "\n",
    "with urllib.request.urlopen(requirements_table_url) as url:\n",
    "    requirements_table = json.load(url)\n",
    "    \n",
    "print(requirements_table)"
   ]
  },
  {
   "cell_type": "markdown",
   "metadata": {},
   "source": [
    "## 2. Extract "
   ]
  },
  {
   "cell_type": "markdown",
   "metadata": {},
   "source": [
    "### 2.1. Extract From Data Source I\n",
    "- Lakukan ekstrak data dari Data Source I\n",
    "- Simpan dataframenya dengan nama `city_df`"
   ]
  },
  {
   "cell_type": "code",
   "execution_count": 6,
   "metadata": {},
   "outputs": [
    {
     "data": {
      "text/html": [
       "<div>\n",
       "<style scoped>\n",
       "    .dataframe tbody tr th:only-of-type {\n",
       "        vertical-align: middle;\n",
       "    }\n",
       "\n",
       "    .dataframe tbody tr th {\n",
       "        vertical-align: top;\n",
       "    }\n",
       "\n",
       "    .dataframe thead th {\n",
       "        text-align: right;\n",
       "    }\n",
       "</style>\n",
       "<table border=\"1\" class=\"dataframe\">\n",
       "  <thead>\n",
       "    <tr style=\"text-align: right;\">\n",
       "      <th></th>\n",
       "      <th>city_id</th>\n",
       "      <th>city</th>\n",
       "      <th>country</th>\n",
       "    </tr>\n",
       "  </thead>\n",
       "  <tbody>\n",
       "    <tr>\n",
       "      <th>0</th>\n",
       "      <td>1</td>\n",
       "      <td>A Corua (La Corua)</td>\n",
       "      <td>Spain</td>\n",
       "    </tr>\n",
       "    <tr>\n",
       "      <th>1</th>\n",
       "      <td>2</td>\n",
       "      <td>Abha</td>\n",
       "      <td>Saudi Arabia</td>\n",
       "    </tr>\n",
       "    <tr>\n",
       "      <th>2</th>\n",
       "      <td>3</td>\n",
       "      <td>Abu Dhabi</td>\n",
       "      <td>United Arab Emirates</td>\n",
       "    </tr>\n",
       "    <tr>\n",
       "      <th>3</th>\n",
       "      <td>4</td>\n",
       "      <td>Acua</td>\n",
       "      <td>Mexico</td>\n",
       "    </tr>\n",
       "    <tr>\n",
       "      <th>4</th>\n",
       "      <td>5</td>\n",
       "      <td>Adana</td>\n",
       "      <td>Turkey</td>\n",
       "    </tr>\n",
       "  </tbody>\n",
       "</table>\n",
       "</div>"
      ],
      "text/plain": [
       "   city_id                city               country\n",
       "0        1  A Corua (La Corua)                 Spain\n",
       "1        2                Abha          Saudi Arabia\n",
       "2        3           Abu Dhabi  United Arab Emirates\n",
       "3        4                Acua                Mexico\n",
       "4        5               Adana                Turkey"
      ]
     },
     "execution_count": 6,
     "metadata": {},
     "output_type": "execute_result"
    }
   ],
   "source": [
    "# Your code here\n",
    "# Read data\n",
    "city_df = pd.read_csv(city_raw)\n",
    "# Tampilkan 5 data teratas\n",
    "city_df.head()"
   ]
  },
  {
   "cell_type": "markdown",
   "metadata": {},
   "source": [
    "### 2.2. Extract From Data Source II\n",
    "- Lakukan ekstrak data dari Data Source II\n",
    "- Simpan dataframenya dengan nama `country_df`"
   ]
  },
  {
   "cell_type": "code",
   "execution_count": 7,
   "metadata": {},
   "outputs": [
    {
     "data": {
      "text/html": [
       "<div>\n",
       "<style scoped>\n",
       "    .dataframe tbody tr th:only-of-type {\n",
       "        vertical-align: middle;\n",
       "    }\n",
       "\n",
       "    .dataframe tbody tr th {\n",
       "        vertical-align: top;\n",
       "    }\n",
       "\n",
       "    .dataframe thead th {\n",
       "        text-align: right;\n",
       "    }\n",
       "</style>\n",
       "<table border=\"1\" class=\"dataframe\">\n",
       "  <thead>\n",
       "    <tr style=\"text-align: right;\">\n",
       "      <th></th>\n",
       "      <th>country</th>\n",
       "      <th>last_update</th>\n",
       "    </tr>\n",
       "  </thead>\n",
       "  <tbody>\n",
       "    <tr>\n",
       "      <th>0</th>\n",
       "      <td>Afghanistan</td>\n",
       "      <td>2006-02-15 09:44:00</td>\n",
       "    </tr>\n",
       "    <tr>\n",
       "      <th>1</th>\n",
       "      <td>Algeria</td>\n",
       "      <td>2006-02-15 09:44:00</td>\n",
       "    </tr>\n",
       "    <tr>\n",
       "      <th>2</th>\n",
       "      <td>American Samoa</td>\n",
       "      <td>2006-02-15 09:44:00</td>\n",
       "    </tr>\n",
       "    <tr>\n",
       "      <th>3</th>\n",
       "      <td>Angola</td>\n",
       "      <td>2006-02-15 09:44:00</td>\n",
       "    </tr>\n",
       "    <tr>\n",
       "      <th>4</th>\n",
       "      <td>Anguilla</td>\n",
       "      <td>2006-02-15 09:44:00</td>\n",
       "    </tr>\n",
       "    <tr>\n",
       "      <th>...</th>\n",
       "      <td>...</td>\n",
       "      <td>...</td>\n",
       "    </tr>\n",
       "    <tr>\n",
       "      <th>104</th>\n",
       "      <td>Vietnam</td>\n",
       "      <td>2006-02-15 09:44:00</td>\n",
       "    </tr>\n",
       "    <tr>\n",
       "      <th>105</th>\n",
       "      <td>Virgin Islands, U.S.</td>\n",
       "      <td>2006-02-15 09:44:00</td>\n",
       "    </tr>\n",
       "    <tr>\n",
       "      <th>106</th>\n",
       "      <td>Yemen</td>\n",
       "      <td>2006-02-15 09:44:00</td>\n",
       "    </tr>\n",
       "    <tr>\n",
       "      <th>107</th>\n",
       "      <td>Yugoslavia</td>\n",
       "      <td>2006-02-15 09:44:00</td>\n",
       "    </tr>\n",
       "    <tr>\n",
       "      <th>108</th>\n",
       "      <td>Zambia</td>\n",
       "      <td>2006-02-15 09:44:00</td>\n",
       "    </tr>\n",
       "  </tbody>\n",
       "</table>\n",
       "<p>109 rows × 2 columns</p>\n",
       "</div>"
      ],
      "text/plain": [
       "                  country          last_update\n",
       "0             Afghanistan  2006-02-15 09:44:00\n",
       "1                 Algeria  2006-02-15 09:44:00\n",
       "2          American Samoa  2006-02-15 09:44:00\n",
       "3                  Angola  2006-02-15 09:44:00\n",
       "4                Anguilla  2006-02-15 09:44:00\n",
       "..                    ...                  ...\n",
       "104               Vietnam  2006-02-15 09:44:00\n",
       "105  Virgin Islands, U.S.  2006-02-15 09:44:00\n",
       "106                 Yemen  2006-02-15 09:44:00\n",
       "107            Yugoslavia  2006-02-15 09:44:00\n",
       "108                Zambia  2006-02-15 09:44:00\n",
       "\n",
       "[109 rows x 2 columns]"
      ]
     },
     "execution_count": 7,
     "metadata": {},
     "output_type": "execute_result"
    }
   ],
   "source": [
    "# Your code here\n",
    "# Read data\n",
    "country_df = pd.read_csv(country_raw)\n",
    "\n",
    "# Tampilkan 5 data teratas\n",
    "country_df"
   ]
  },
  {
   "cell_type": "markdown",
   "metadata": {},
   "source": [
    "### 2.3. Extract From Data Source III\n",
    "- Buatlah function untuk mendapatkan tabel pada database\n",
    "- Parameter :\n",
    "    - nama tabel\n",
    "    - engine koneksi ke database\n",
    "- Return : dataframe"
   ]
  },
  {
   "cell_type": "code",
   "execution_count": 8,
   "metadata": {},
   "outputs": [],
   "source": [
    "# Your code here\n",
    "# Buat fungsi untuk mendapatkan tabel pada database\n",
    "def get_table_data_source_iii(table_name, engine):\n",
    "    try:\n",
    "        stmt = f\"SELECT * FROM {table_name};\"\n",
    "        df = pd.read_sql(stmt, engine)\n",
    "    except Exception as e:\n",
    "        print(f\"Error: {e}\")\n",
    "        df = pd.DataFrame()\n",
    "    return df"
   ]
  },
  {
   "cell_type": "markdown",
   "metadata": {},
   "source": [
    "- Buat masing-masing dataframe untuk setiap table tersebut"
   ]
  },
  {
   "cell_type": "code",
   "execution_count": 14,
   "metadata": {},
   "outputs": [],
   "source": [
    "actor_df = get_table_data_source_iii('actor', engine)\n",
    "store_df = get_table_data_source_iii('store', engine)\n",
    "address_df = get_table_data_source_iii('address', engine)\n",
    "category_df = get_table_data_source_iii('category', engine)\n",
    "customer_df = get_table_data_source_iii('customer', engine)\n",
    "film_actor_df = get_table_data_source_iii('film_actor', engine)\n",
    "film_category_df = get_table_data_source_iii('film_category', engine)\n",
    "inventory_df = get_table_data_source_iii('inventory',engine)\n",
    "language_df = get_table_data_source_iii('language',engine)\n",
    "rental_df = get_table_data_source_iii('rental',engine)\n",
    "staff_df = get_table_data_source_iii('staff',engine)\n",
    "payment_df = get_table_data_source_iii('payment',engine)\n",
    "film_df = get_table_data_source_iii('film',engine)"
   ]
  },
  {
   "cell_type": "markdown",
   "metadata": {},
   "source": [
    "- Tampung semua dataframe dari Data Source 1, 2, dan 3 ke dalam sebuah **Dictionary**.\n",
    "- Keys:\n",
    "    - nama tabel\n",
    "- Value:\n",
    "    - dataframe"
   ]
  },
  {
   "cell_type": "code",
   "execution_count": 16,
   "metadata": {},
   "outputs": [],
   "source": [
    "# Your code here\n",
    "table_dict = {\n",
    "    'actor': actor_df, \n",
    "    'store' : store_df, \n",
    "    'address' : address_df, \n",
    "    'category' :category_df, \n",
    "    'customer' : customer_df, \n",
    "    'film_actor' : film_actor_df, \n",
    "    'film_category' : film_category_df, \n",
    "    'inventory' : inventory_df, \n",
    "    'language' : language_df, \n",
    "    'rental' : rental_df, \n",
    "    'staff' : staff_df, \n",
    "    'payment' : payment_df, \n",
    "    'film' : film_df, \n",
    "    'city' : city_df, \n",
    "    'country' : country_df\n",
    "}"
   ]
  },
  {
   "cell_type": "markdown",
   "metadata": {},
   "source": [
    "## 3. Data Validations\n",
    "- Pada bagian ini akan dilakukan beberapa **pengecekan**, yaitu :\n",
    "    - Check `Table Requirements`\n",
    "    - Check Data `Shape`\n",
    "    - Check `Columns`\n",
    "    - Check Data `Types`\n",
    "    - Check `Missing Values`\n",
    "    - Check `Duplicates Data`"
   ]
  },
  {
   "cell_type": "markdown",
   "metadata": {},
   "source": [
    "### 3.1. Check `Table Requirements`\n",
    "- Pada bagian ini kita akan melakukan **pengecekan daftar tabel**.\n",
    "- Pengecekan dilakukan pada :\n",
    "    - Data Source I\n",
    "    - Data Source II\n",
    "    - Data Source III\n",
    "- Pastikan tabel yang dimiliki dari data source sesuai dengan requirements table."
   ]
  },
  {
   "cell_type": "markdown",
   "metadata": {},
   "source": [
    "- Buat fungsi pengecekan Tabel : **check_table_requirements**\n",
    "- Fungsi ini akan :\n",
    "    - Memprint tabulate dengan header nama tabel dan hasil pengecekan tabel tersebut. ✓ jika tabelnya ada dan ✗ jika tabelnya tidak ada\n",
    "- Parameter :\n",
    "    - actual_table : Dictionary actual table (Data source 1, 2, 3)\n",
    "    - requirements_table : Requirements JSON\n",
    "- Return : None"
   ]
  },
  {
   "cell_type": "code",
   "execution_count": 18,
   "metadata": {},
   "outputs": [],
   "source": [
    "# Your code here\n",
    "def check_table_requirements(actual_table, requirements_table):\n",
    "    \n",
    "    actual_table_name = [table_name for table_name in actual_table]\n",
    "    requirements_table_name = list(requirements_table.keys())\n",
    "    table_checking = []\n",
    "\n",
    "    for table_name in requirements_table_name:\n",
    "        \n",
    "        if table_name in actual_table_name:\n",
    "            table_checking.append([table_name, \"✓\"])\n",
    "            \n",
    "        else:\n",
    "            table_checking.append([table_name, \"✗\"])\n",
    "            \n",
    "    table_headers = ['Table_name', 'Is_Exist']\n",
    "    table = tabulate(table_checking, headers = table_headers, tablefmt = 'grid')\n",
    "    print(\"=> STEP 1: Check Table\")\n",
    "    print(table)"
   ]
  },
  {
   "cell_type": "code",
   "execution_count": 19,
   "metadata": {},
   "outputs": [
    {
     "name": "stdout",
     "output_type": "stream",
     "text": [
      "=> STEP 1: Check Table\n",
      "+---------------+------------+\n",
      "| Table_name    | Is_Exist   |\n",
      "+===============+============+\n",
      "| actor         | ✓          |\n",
      "+---------------+------------+\n",
      "| store         | ✓          |\n",
      "+---------------+------------+\n",
      "| address       | ✓          |\n",
      "+---------------+------------+\n",
      "| category      | ✓          |\n",
      "+---------------+------------+\n",
      "| city          | ✓          |\n",
      "+---------------+------------+\n",
      "| country       | ✓          |\n",
      "+---------------+------------+\n",
      "| customer      | ✓          |\n",
      "+---------------+------------+\n",
      "| film_actor    | ✓          |\n",
      "+---------------+------------+\n",
      "| film_category | ✓          |\n",
      "+---------------+------------+\n",
      "| inventory     | ✓          |\n",
      "+---------------+------------+\n",
      "| language      | ✓          |\n",
      "+---------------+------------+\n",
      "| rental        | ✓          |\n",
      "+---------------+------------+\n",
      "| staff         | ✓          |\n",
      "+---------------+------------+\n",
      "| payment       | ✓          |\n",
      "+---------------+------------+\n",
      "| film          | ✓          |\n",
      "+---------------+------------+\n"
     ]
    }
   ],
   "source": [
    "check_table_requirements(\n",
    "    actual_table = table_dict, \n",
    "    requirements_table = requirements_table\n",
    ")"
   ]
  },
  {
   "cell_type": "markdown",
   "metadata": {},
   "source": [
    "### 3.2. Check `Data Shape`\n",
    "- Buat fungsi pengecekan data shape : **check_shape**\n",
    "- Fungsi ini akan :\n",
    "    - Memprint tabulate untuk menampilkan jumlah baris dan jumlah kolom dari setiap table.\n",
    "- Parameter :\n",
    "    - actual_table : Dictionary actual table (Data source 1, 2, 3)\n",
    "    - requirements_table : Requirements JSON\n",
    "- Return : None"
   ]
  },
  {
   "cell_type": "code",
   "execution_count": 20,
   "metadata": {},
   "outputs": [],
   "source": [
    "# Your code here\n",
    "def check_shape(actual_table):\n",
    "    print(\"=> STEP 2: Check Data Shape\")\n",
    "    shape_checking = []\n",
    "    \n",
    "    for table_name in actual_table:\n",
    "        n_row = actual_table[table_name].shape[0]\n",
    "        n_col = actual_table[table_name].shape[1]\n",
    "        shape_checking.append([table_name, n_row, n_col])\n",
    "    \n",
    "    # Print Table\n",
    "    table_headers = ['Table_name', 'Number of rows', 'Number of columns']\n",
    "    table = tabulate(shape_checking, headers = table_headers, tablefmt = 'grid')\n",
    "    print(table)   "
   ]
  },
  {
   "cell_type": "code",
   "execution_count": 21,
   "metadata": {},
   "outputs": [
    {
     "name": "stdout",
     "output_type": "stream",
     "text": [
      "=> STEP 2: Check Data Shape\n",
      "+---------------+------------------+---------------------+\n",
      "| Table_name    |   Number of rows |   Number of columns |\n",
      "+===============+==================+=====================+\n",
      "| actor         |              200 |                   4 |\n",
      "+---------------+------------------+---------------------+\n",
      "| store         |                2 |                   4 |\n",
      "+---------------+------------------+---------------------+\n",
      "| address       |              603 |                   8 |\n",
      "+---------------+------------------+---------------------+\n",
      "| category      |               16 |                   3 |\n",
      "+---------------+------------------+---------------------+\n",
      "| customer      |              599 |                  10 |\n",
      "+---------------+------------------+---------------------+\n",
      "| film_actor    |             5462 |                   3 |\n",
      "+---------------+------------------+---------------------+\n",
      "| film_category |             1000 |                   3 |\n",
      "+---------------+------------------+---------------------+\n",
      "| inventory     |             4581 |                   4 |\n",
      "+---------------+------------------+---------------------+\n",
      "| language      |                6 |                   3 |\n",
      "+---------------+------------------+---------------------+\n",
      "| rental        |            16044 |                   7 |\n",
      "+---------------+------------------+---------------------+\n",
      "| staff         |                2 |                  11 |\n",
      "+---------------+------------------+---------------------+\n",
      "| payment       |            14596 |                   6 |\n",
      "+---------------+------------------+---------------------+\n",
      "| film          |             1000 |                  13 |\n",
      "+---------------+------------------+---------------------+\n",
      "| city          |              677 |                   3 |\n",
      "+---------------+------------------+---------------------+\n",
      "| country       |              109 |                   2 |\n",
      "+---------------+------------------+---------------------+\n"
     ]
    }
   ],
   "source": [
    "check_shape(actual_table = table_dict)"
   ]
  },
  {
   "cell_type": "markdown",
   "metadata": {},
   "source": [
    "### 3.3. Check `Columns`\n",
    "- Buat fungsi pengecekan nama-nama kolom pada setiap tabel : **check_columns**\n",
    "- Fungsi ini akan :\n",
    "    - Memprint tabulate untuk menampilkan tabel-tabel yang kolomnya tidak sesuai dengan requirements\n",
    "- Parameter :\n",
    "    - actual_table : Dictionary actual table (Data source 1, 2, 3)\n",
    "    - requirements_table : Requirements JSON\n",
    "- Return : None"
   ]
  },
  {
   "cell_type": "code",
   "execution_count": 22,
   "metadata": {},
   "outputs": [],
   "source": [
    "# Your code here\n",
    "def check_columns(actual_table, requirements_table):\n",
    "    print(\"=> STEP 3: Check Columns\")\n",
    "    \n",
    "    for table_name in requirements_table:\n",
    "        result = []\n",
    "        \n",
    "        actual_columns = list(actual_table[table_name].columns)\n",
    "        requirements_columns = []\n",
    "        \n",
    "        requirements_table_data = requirements_table[table_name]\n",
    "        for column in requirements_table_data:\n",
    "            requirements_columns.append(column['column_name'])\n",
    "\n",
    "        for column_name in set(actual_columns + requirements_columns):\n",
    "            in_actual_table = '✔' if column_name in actual_columns else '✘'\n",
    "            in_requirements_table = '✔' if column_name in requirements_columns else '✘'\n",
    "            result.append([column_name, in_actual_table, in_requirements_table])\n",
    "\n",
    "        if set(actual_columns) == set(requirements_columns):\n",
    "            pass\n",
    "\n",
    "        else:\n",
    "            headers = [\"column_name\", \"in_actual_table\", \"in_requirements_table\"]\n",
    "            print(f\"Table : {table_name}\")\n",
    "            print(tabulate(result, headers = headers, tablefmt = \"grid\"))\n",
    "            print(\"\\n\")"
   ]
  },
  {
   "cell_type": "code",
   "execution_count": 23,
   "metadata": {},
   "outputs": [
    {
     "name": "stdout",
     "output_type": "stream",
     "text": [
      "=> STEP 3: Check Columns\n",
      "Table : city\n",
      "+---------------+-------------------+-------------------------+\n",
      "| column_name   | in_actual_table   | in_requirements_table   |\n",
      "+===============+===================+=========================+\n",
      "| city_id       | ✔                 | ✔                       |\n",
      "+---------------+-------------------+-------------------------+\n",
      "| last_update   | ✘                 | ✔                       |\n",
      "+---------------+-------------------+-------------------------+\n",
      "| country_id    | ✘                 | ✔                       |\n",
      "+---------------+-------------------+-------------------------+\n",
      "| country       | ✔                 | ✘                       |\n",
      "+---------------+-------------------+-------------------------+\n",
      "| city          | ✔                 | ✔                       |\n",
      "+---------------+-------------------+-------------------------+\n",
      "\n",
      "\n",
      "Table : country\n",
      "+---------------+-------------------+-------------------------+\n",
      "| column_name   | in_actual_table   | in_requirements_table   |\n",
      "+===============+===================+=========================+\n",
      "| country_id    | ✘                 | ✔                       |\n",
      "+---------------+-------------------+-------------------------+\n",
      "| last_update   | ✔                 | ✔                       |\n",
      "+---------------+-------------------+-------------------------+\n",
      "| country       | ✔                 | ✔                       |\n",
      "+---------------+-------------------+-------------------------+\n",
      "\n",
      "\n"
     ]
    }
   ],
   "source": [
    "check_columns(actual_table = table_dict,\n",
    "              requirements_table = requirements_table)"
   ]
  },
  {
   "cell_type": "markdown",
   "metadata": {},
   "source": [
    "### 3.4. Check `Data Types`\n",
    "- Buat fungsi pengecekan nama-nama kolom pada setiap tabel : **check_data_types**\n",
    "- Fungsi ini akan :\n",
    "    - Memprint tabulate untuk menampilkan tabel dan kolom yang tipe datanya tidak sesuai dengan requirements\n",
    "- Parameter :\n",
    "    - actual_table : Dictionary actual table (Data source 1, 2, 3)\n",
    "    - requirements_table : Requirements JSON\n",
    "- Return : None"
   ]
  },
  {
   "cell_type": "code",
   "execution_count": 24,
   "metadata": {},
   "outputs": [],
   "source": [
    "# Your code here\n",
    "def check_data_types(actual_table, requirements_table):\n",
    "    print(\"=> STEP 4: Check Data Types\")\n",
    "    summary_data = []\n",
    "\n",
    "    for table_name, df in actual_table.items():\n",
    "        if table_name in requirements_table:\n",
    "            for column_info in requirements_table[table_name]:\n",
    "                column_name = column_info[\"column_name\"]\n",
    "                requirements_type = column_info[\"data_type\"]\n",
    "                \n",
    "                if column_name in df.columns:\n",
    "                    actual_type = str(df[column_name].dtype)\n",
    "                    match = \"✔\" if actual_type == requirements_type else \"✘\"\n",
    "                    summary_data.append([table_name, column_name, actual_type, requirements_type, match])\n",
    "                else:\n",
    "                    summary_data.append([table_name, column_name, \"N/A\", requirements_type, \"✘ (Column not found)\"])\n",
    "\n",
    "    headers = [\"Table Name\", \"Column Name\", \"Actual Type\", \"Requirements Type\", \"Match\"]\n",
    "\n",
    "    mismatch_data = [row for row in summary_data if \"✘\" in row[4]]\n",
    "    \n",
    "    if mismatch_data:\n",
    "        print(\"\\nSummary of Mismatches Data Types:\")\n",
    "        print(tabulate(mismatch_data, headers = headers, tablefmt = \"grid\"))\n",
    "    \n",
    "    else:\n",
    "        print(\"All Data Types Match\")"
   ]
  },
  {
   "cell_type": "code",
   "execution_count": 25,
   "metadata": {},
   "outputs": [
    {
     "name": "stdout",
     "output_type": "stream",
     "text": [
      "=> STEP 4: Check Data Types\n",
      "\n",
      "Summary of Mismatches Data Types:\n",
      "+--------------+---------------+---------------+---------------------+----------------------+\n",
      "| Table Name   | Column Name   | Actual Type   | Requirements Type   | Match                |\n",
      "+==============+===============+===============+=====================+======================+\n",
      "| customer     | create_date   | object        | datetime64[ns]      | ✘                    |\n",
      "+--------------+---------------+---------------+---------------------+----------------------+\n",
      "| city         | country_id    | N/A           | int64               | ✘ (Column not found) |\n",
      "+--------------+---------------+---------------+---------------------+----------------------+\n",
      "| city         | last_update   | N/A           | datetime64[ns]      | ✘ (Column not found) |\n",
      "+--------------+---------------+---------------+---------------------+----------------------+\n",
      "| country      | country_id    | N/A           | int64               | ✘ (Column not found) |\n",
      "+--------------+---------------+---------------+---------------------+----------------------+\n",
      "| country      | last_update   | object        | datetime64[ns]      | ✘                    |\n",
      "+--------------+---------------+---------------+---------------------+----------------------+\n"
     ]
    }
   ],
   "source": [
    "check_data_types(actual_table = table_dict, \n",
    "                 requirements_table = requirements_table)"
   ]
  },
  {
   "cell_type": "markdown",
   "metadata": {},
   "source": [
    "### 3.5. Check `Missing Values`\n",
    "- Buat fungsi pengecekan nama-nama kolom pada setiap tabel : **check_missing_values**\n",
    "- Fungsi ini akan :\n",
    "    - Memprint tabulate untuk menampilkan tabel dan kolom yang mempunyai missing values. \n",
    "    - Menampilkan jumlah dan persentase missing values\n",
    "- Parameter :\n",
    "    - actual_table : Dictionary actual table (Data source 1, 2, 3)\n",
    "    - requirements_table : Requirements JSON\n",
    "- Return : None"
   ]
  },
  {
   "cell_type": "code",
   "execution_count": 26,
   "metadata": {},
   "outputs": [],
   "source": [
    "# Your code here\n",
    "def check_missing_values(actual_table):\n",
    "    print(\"=> STEP 5: Check Missing Values\")\n",
    "\n",
    "    missing_summary = []\n",
    "\n",
    "    for table_name, df in actual_table.items():\n",
    "        missing_count = df.isnull().sum()\n",
    "        missing_percentage = (df.isnull().mean() * 100).round(2)\n",
    "        \n",
    "        for column_name, count in missing_count.items():\n",
    "            if count > 0:\n",
    "                percentage = missing_percentage[column_name]\n",
    "                missing_summary.append([table_name, column_name, count, percentage])\n",
    "\n",
    "    if missing_summary:\n",
    "        print(\"Missing Value Summary:\")\n",
    "        print(tabulate(missing_summary, headers=[\"Table Name\", \"Column Name\", \"Missing Value Count\", \"Missing Value Percentage\"], tablefmt=\"grid\"))\n",
    "    \n",
    "    else:\n",
    "        print(\"There's no Missing Values\")"
   ]
  },
  {
   "cell_type": "code",
   "execution_count": 27,
   "metadata": {},
   "outputs": [
    {
     "name": "stdout",
     "output_type": "stream",
     "text": [
      "=> STEP 5: Check Missing Values\n",
      "Missing Value Summary:\n",
      "+--------------+---------------+-----------------------+----------------------------+\n",
      "| Table Name   | Column Name   |   Missing Value Count |   Missing Value Percentage |\n",
      "+==============+===============+=======================+============================+\n",
      "| address      | address2      |                     4 |                       0.66 |\n",
      "+--------------+---------------+-----------------------+----------------------------+\n",
      "| rental       | return_date   |                   183 |                       1.14 |\n",
      "+--------------+---------------+-----------------------+----------------------------+\n",
      "| staff        | picture       |                     1 |                      50    |\n",
      "+--------------+---------------+-----------------------+----------------------------+\n",
      "| city         | city          |                    10 |                       1.48 |\n",
      "+--------------+---------------+-----------------------+----------------------------+\n",
      "| city         | country       |                     7 |                       1.03 |\n",
      "+--------------+---------------+-----------------------+----------------------------+\n"
     ]
    }
   ],
   "source": [
    "check_missing_values(actual_table = table_dict)"
   ]
  },
  {
   "cell_type": "markdown",
   "metadata": {},
   "source": [
    "### 3.6. Check `Duplicates Data`\n",
    "- Buat fungsi pengecekan nama-nama kolom pada setiap tabel : **check_duplicates_data**\n",
    "- Fungsi ini akan :\n",
    "    - Memprint tabulate untuk menampilkan tabel yang mempunyai data duplikat. \n",
    "    - Menampilkan jumlah data yang duplikat (Semua data yang terindikasi duplikat). \n",
    "- Parameter :\n",
    "    - actual_table : Dictionary actual table (Data source 1, 2, 3)\n",
    "    - requirements_table : Requirements JSON\n",
    "- Return : None"
   ]
  },
  {
   "cell_type": "code",
   "execution_count": 28,
   "metadata": {},
   "outputs": [],
   "source": [
    "# Your code here\n",
    "def check_duplicates_data(actual_table):\n",
    "    print(\"=> STEP 6: Check Duplicates Data\")\n",
    "    duplicate_summary = []\n",
    "\n",
    "    for table_name, df in actual_table.items():\n",
    "        try:\n",
    "            duplicate_rows = df[df.duplicated(keep = False)]\n",
    "            \n",
    "            if not duplicate_rows.empty:\n",
    "                duplicate_summary.append([table_name, len(duplicate_rows)])\n",
    "        except:\n",
    "            pass\n",
    "\n",
    "    if duplicate_summary:\n",
    "        print(\"Duplicate Data Summary:\")\n",
    "        print(tabulate(duplicate_summary, headers=[\"Table Name\", \"Duplicate Rows Count\"], tablefmt=\"grid\"))\n",
    "    else:\n",
    "        print(\"No Duplicate Data Found\")"
   ]
  },
  {
   "cell_type": "code",
   "execution_count": 29,
   "metadata": {},
   "outputs": [
    {
     "name": "stdout",
     "output_type": "stream",
     "text": [
      "=> STEP 6: Check Duplicates Data\n",
      "Duplicate Data Summary:\n",
      "+--------------+------------------------+\n",
      "| Table Name   |   Duplicate Rows Count |\n",
      "+==============+========================+\n",
      "| city         |                    154 |\n",
      "+--------------+------------------------+\n"
     ]
    }
   ],
   "source": [
    "check_duplicates_data(table_dict)"
   ]
  },
  {
   "cell_type": "markdown",
   "metadata": {},
   "source": [
    "## 4. Data Transform\n",
    "- Proses transformasi ini dilakukan untuk **mempersiapkan data untuk diload ke Data Warehouse.**\n",
    "- **Pertama, lakukanlah cleaning** sebelum datanya diload ke data warehouse **pada database dvdrental_clean**.\n",
    "<center>\n",
    "\n",
    "<img src=\"https://sekolahdata-assets.s3.ap-southeast-1.amazonaws.com/notebook-images/mde-intro-to-data-eng/10_01.png\"/>\n",
    "<center>"
   ]
  },
  {
   "cell_type": "markdown",
   "metadata": {},
   "source": [
    "### 4.1. Data Cleansing\n",
    "- Berdasarkan **hasil validations** diketahui bahwa data yang diperoleh dari beberapa data source **masih belum clean.**\n",
    "    - **Kolom yang tidak sesuai requirements terdapat pada tabel:** \n",
    "\t    - city\n",
    "\t    - country\n",
    "    - **Terdapat missing values pada kolom :**\n",
    "\t    - address\n",
    "\t    - city\n",
    "\t    - rental\n",
    "\t    - staff\n",
    "    - **Tipe data yang tidak sesuai requirements terdapat pada tabel :**\n",
    "\t    - city\n",
    "\t    - country\n",
    "\t    - customer\n",
    "    - **Terdapat duplicates data pada kolom :**\n",
    "\t    - city\n"
   ]
  },
  {
   "cell_type": "markdown",
   "metadata": {},
   "source": [
    "#### 4.1.1. Handle mismatch columns"
   ]
  },
  {
   "cell_type": "markdown",
   "metadata": {},
   "source": [
    "**TABLE : country**"
   ]
  },
  {
   "cell_type": "markdown",
   "metadata": {},
   "source": [
    "- Berikut adalah **data aktual** dari tabel \"country\""
   ]
  },
  {
   "cell_type": "code",
   "execution_count": 30,
   "metadata": {},
   "outputs": [
    {
     "data": {
      "text/html": [
       "<div>\n",
       "<style scoped>\n",
       "    .dataframe tbody tr th:only-of-type {\n",
       "        vertical-align: middle;\n",
       "    }\n",
       "\n",
       "    .dataframe tbody tr th {\n",
       "        vertical-align: top;\n",
       "    }\n",
       "\n",
       "    .dataframe thead th {\n",
       "        text-align: right;\n",
       "    }\n",
       "</style>\n",
       "<table border=\"1\" class=\"dataframe\">\n",
       "  <thead>\n",
       "    <tr style=\"text-align: right;\">\n",
       "      <th></th>\n",
       "      <th>country</th>\n",
       "      <th>last_update</th>\n",
       "    </tr>\n",
       "  </thead>\n",
       "  <tbody>\n",
       "    <tr>\n",
       "      <th>0</th>\n",
       "      <td>Afghanistan</td>\n",
       "      <td>2006-02-15 09:44:00</td>\n",
       "    </tr>\n",
       "    <tr>\n",
       "      <th>1</th>\n",
       "      <td>Algeria</td>\n",
       "      <td>2006-02-15 09:44:00</td>\n",
       "    </tr>\n",
       "    <tr>\n",
       "      <th>2</th>\n",
       "      <td>American Samoa</td>\n",
       "      <td>2006-02-15 09:44:00</td>\n",
       "    </tr>\n",
       "    <tr>\n",
       "      <th>3</th>\n",
       "      <td>Angola</td>\n",
       "      <td>2006-02-15 09:44:00</td>\n",
       "    </tr>\n",
       "    <tr>\n",
       "      <th>4</th>\n",
       "      <td>Anguilla</td>\n",
       "      <td>2006-02-15 09:44:00</td>\n",
       "    </tr>\n",
       "  </tbody>\n",
       "</table>\n",
       "</div>"
      ],
      "text/plain": [
       "          country          last_update\n",
       "0     Afghanistan  2006-02-15 09:44:00\n",
       "1         Algeria  2006-02-15 09:44:00\n",
       "2  American Samoa  2006-02-15 09:44:00\n",
       "3          Angola  2006-02-15 09:44:00\n",
       "4        Anguilla  2006-02-15 09:44:00"
      ]
     },
     "execution_count": 30,
     "metadata": {},
     "output_type": "execute_result"
    }
   ],
   "source": [
    "country_df = table_dict['country']\n",
    "country_df.head()"
   ]
  },
  {
   "cell_type": "markdown",
   "metadata": {},
   "source": [
    "- Berikut adalah **requirements** untuk tabel \"country\""
   ]
  },
  {
   "cell_type": "code",
   "execution_count": 31,
   "metadata": {},
   "outputs": [
    {
     "data": {
      "text/plain": [
       "[{'column_name': 'country_id', 'data_type': 'int64'},\n",
       " {'column_name': 'last_update', 'data_type': 'datetime64[ns]'},\n",
       " {'column_name': 'country', 'data_type': 'object'}]"
      ]
     },
     "execution_count": 31,
     "metadata": {},
     "output_type": "execute_result"
    }
   ],
   "source": [
    "requirements_table['country']"
   ]
  },
  {
   "cell_type": "markdown",
   "metadata": {},
   "source": [
    "- Pada table country aktual belum mempunyai kolom country_id, maka :\n",
    "    - **tambahkan colom country_id.**\n",
    "- Ketentuan :\n",
    "    - country_id tersebut dimulai dari angka 1 dan seterusnya"
   ]
  },
  {
   "cell_type": "code",
   "execution_count": 32,
   "metadata": {},
   "outputs": [
    {
     "data": {
      "text/html": [
       "<div>\n",
       "<style scoped>\n",
       "    .dataframe tbody tr th:only-of-type {\n",
       "        vertical-align: middle;\n",
       "    }\n",
       "\n",
       "    .dataframe tbody tr th {\n",
       "        vertical-align: top;\n",
       "    }\n",
       "\n",
       "    .dataframe thead th {\n",
       "        text-align: right;\n",
       "    }\n",
       "</style>\n",
       "<table border=\"1\" class=\"dataframe\">\n",
       "  <thead>\n",
       "    <tr style=\"text-align: right;\">\n",
       "      <th></th>\n",
       "      <th>country_id</th>\n",
       "      <th>country</th>\n",
       "      <th>last_update</th>\n",
       "    </tr>\n",
       "  </thead>\n",
       "  <tbody>\n",
       "    <tr>\n",
       "      <th>0</th>\n",
       "      <td>1</td>\n",
       "      <td>Afghanistan</td>\n",
       "      <td>2006-02-15 09:44:00</td>\n",
       "    </tr>\n",
       "    <tr>\n",
       "      <th>1</th>\n",
       "      <td>2</td>\n",
       "      <td>Algeria</td>\n",
       "      <td>2006-02-15 09:44:00</td>\n",
       "    </tr>\n",
       "    <tr>\n",
       "      <th>2</th>\n",
       "      <td>3</td>\n",
       "      <td>American Samoa</td>\n",
       "      <td>2006-02-15 09:44:00</td>\n",
       "    </tr>\n",
       "    <tr>\n",
       "      <th>3</th>\n",
       "      <td>4</td>\n",
       "      <td>Angola</td>\n",
       "      <td>2006-02-15 09:44:00</td>\n",
       "    </tr>\n",
       "    <tr>\n",
       "      <th>4</th>\n",
       "      <td>5</td>\n",
       "      <td>Anguilla</td>\n",
       "      <td>2006-02-15 09:44:00</td>\n",
       "    </tr>\n",
       "  </tbody>\n",
       "</table>\n",
       "</div>"
      ],
      "text/plain": [
       "   country_id         country          last_update\n",
       "0           1     Afghanistan  2006-02-15 09:44:00\n",
       "1           2         Algeria  2006-02-15 09:44:00\n",
       "2           3  American Samoa  2006-02-15 09:44:00\n",
       "3           4          Angola  2006-02-15 09:44:00\n",
       "4           5        Anguilla  2006-02-15 09:44:00"
      ]
     },
     "execution_count": 32,
     "metadata": {},
     "output_type": "execute_result"
    }
   ],
   "source": [
    "# Your code here\n",
    "# Menambahkan kolom baru 'country_id' di posisi pertama\n",
    "country_df.insert(0, 'country_id', range(1, len(country_df) + 1))\n",
    "\n",
    "country_df.head()"
   ]
  },
  {
   "cell_type": "markdown",
   "metadata": {},
   "source": [
    "- **Rubah dataframe country pada table_dict**"
   ]
  },
  {
   "cell_type": "code",
   "execution_count": 33,
   "metadata": {},
   "outputs": [],
   "source": [
    "# Your code here\n",
    "table_dict['country'] = country_df"
   ]
  },
  {
   "cell_type": "markdown",
   "metadata": {},
   "source": [
    "**TABLE : city**"
   ]
  },
  {
   "cell_type": "markdown",
   "metadata": {},
   "source": [
    "- Berikut adalah **data aktual** pada tabel \"city\"."
   ]
  },
  {
   "cell_type": "code",
   "execution_count": 34,
   "metadata": {},
   "outputs": [
    {
     "data": {
      "text/html": [
       "<div>\n",
       "<style scoped>\n",
       "    .dataframe tbody tr th:only-of-type {\n",
       "        vertical-align: middle;\n",
       "    }\n",
       "\n",
       "    .dataframe tbody tr th {\n",
       "        vertical-align: top;\n",
       "    }\n",
       "\n",
       "    .dataframe thead th {\n",
       "        text-align: right;\n",
       "    }\n",
       "</style>\n",
       "<table border=\"1\" class=\"dataframe\">\n",
       "  <thead>\n",
       "    <tr style=\"text-align: right;\">\n",
       "      <th></th>\n",
       "      <th>city_id</th>\n",
       "      <th>city</th>\n",
       "      <th>country</th>\n",
       "    </tr>\n",
       "  </thead>\n",
       "  <tbody>\n",
       "    <tr>\n",
       "      <th>0</th>\n",
       "      <td>1</td>\n",
       "      <td>A Corua (La Corua)</td>\n",
       "      <td>Spain</td>\n",
       "    </tr>\n",
       "    <tr>\n",
       "      <th>1</th>\n",
       "      <td>2</td>\n",
       "      <td>Abha</td>\n",
       "      <td>Saudi Arabia</td>\n",
       "    </tr>\n",
       "    <tr>\n",
       "      <th>2</th>\n",
       "      <td>3</td>\n",
       "      <td>Abu Dhabi</td>\n",
       "      <td>United Arab Emirates</td>\n",
       "    </tr>\n",
       "    <tr>\n",
       "      <th>3</th>\n",
       "      <td>4</td>\n",
       "      <td>Acua</td>\n",
       "      <td>Mexico</td>\n",
       "    </tr>\n",
       "    <tr>\n",
       "      <th>4</th>\n",
       "      <td>5</td>\n",
       "      <td>Adana</td>\n",
       "      <td>Turkey</td>\n",
       "    </tr>\n",
       "  </tbody>\n",
       "</table>\n",
       "</div>"
      ],
      "text/plain": [
       "   city_id                city               country\n",
       "0        1  A Corua (La Corua)                 Spain\n",
       "1        2                Abha          Saudi Arabia\n",
       "2        3           Abu Dhabi  United Arab Emirates\n",
       "3        4                Acua                Mexico\n",
       "4        5               Adana                Turkey"
      ]
     },
     "execution_count": 34,
     "metadata": {},
     "output_type": "execute_result"
    }
   ],
   "source": [
    "city_df = table_dict['city']\n",
    "\n",
    "city_df.head()"
   ]
  },
  {
   "cell_type": "markdown",
   "metadata": {},
   "source": [
    "- Berikut adalah **requirements** untuk table \"city\"."
   ]
  },
  {
   "cell_type": "code",
   "execution_count": 35,
   "metadata": {},
   "outputs": [
    {
     "data": {
      "text/plain": [
       "[{'column_name': 'city_id', 'data_type': 'int64'},\n",
       " {'column_name': 'country_id', 'data_type': 'int64'},\n",
       " {'column_name': 'last_update', 'data_type': 'datetime64[ns]'},\n",
       " {'column_name': 'city', 'data_type': 'object'}]"
      ]
     },
     "execution_count": 35,
     "metadata": {},
     "output_type": "execute_result"
    }
   ],
   "source": [
    "requirements_table['city']"
   ]
  },
  {
   "cell_type": "markdown",
   "metadata": {},
   "source": [
    "- Pada tabel city :\n",
    "    - **Buat kolom :**\n",
    "        - country_id\n",
    "        - last_update\n",
    "    - **Hapus kolom :**\n",
    "        - country\n",
    "- Untuk mencapai tujuan tersebut, lakukan **merge dengan table country** untuk **mendapatkan data country_id dan last_update**."
   ]
  },
  {
   "cell_type": "code",
   "execution_count": 36,
   "metadata": {},
   "outputs": [
    {
     "data": {
      "text/html": [
       "<div>\n",
       "<style scoped>\n",
       "    .dataframe tbody tr th:only-of-type {\n",
       "        vertical-align: middle;\n",
       "    }\n",
       "\n",
       "    .dataframe tbody tr th {\n",
       "        vertical-align: top;\n",
       "    }\n",
       "\n",
       "    .dataframe thead th {\n",
       "        text-align: right;\n",
       "    }\n",
       "</style>\n",
       "<table border=\"1\" class=\"dataframe\">\n",
       "  <thead>\n",
       "    <tr style=\"text-align: right;\">\n",
       "      <th></th>\n",
       "      <th>city_id</th>\n",
       "      <th>country_id</th>\n",
       "      <th>city</th>\n",
       "      <th>last_update</th>\n",
       "    </tr>\n",
       "  </thead>\n",
       "  <tbody>\n",
       "    <tr>\n",
       "      <th>0</th>\n",
       "      <td>1</td>\n",
       "      <td>87.0</td>\n",
       "      <td>A Corua (La Corua)</td>\n",
       "      <td>2006-02-15 09:44:00</td>\n",
       "    </tr>\n",
       "    <tr>\n",
       "      <th>1</th>\n",
       "      <td>2</td>\n",
       "      <td>82.0</td>\n",
       "      <td>Abha</td>\n",
       "      <td>2006-02-15 09:44:00</td>\n",
       "    </tr>\n",
       "    <tr>\n",
       "      <th>2</th>\n",
       "      <td>3</td>\n",
       "      <td>101.0</td>\n",
       "      <td>Abu Dhabi</td>\n",
       "      <td>2006-02-15 09:44:00</td>\n",
       "    </tr>\n",
       "    <tr>\n",
       "      <th>3</th>\n",
       "      <td>4</td>\n",
       "      <td>60.0</td>\n",
       "      <td>Acua</td>\n",
       "      <td>2006-02-15 09:44:00</td>\n",
       "    </tr>\n",
       "    <tr>\n",
       "      <th>4</th>\n",
       "      <td>5</td>\n",
       "      <td>97.0</td>\n",
       "      <td>Adana</td>\n",
       "      <td>2006-02-15 09:44:00</td>\n",
       "    </tr>\n",
       "  </tbody>\n",
       "</table>\n",
       "</div>"
      ],
      "text/plain": [
       "   city_id  country_id                city          last_update\n",
       "0        1        87.0  A Corua (La Corua)  2006-02-15 09:44:00\n",
       "1        2        82.0                Abha  2006-02-15 09:44:00\n",
       "2        3       101.0           Abu Dhabi  2006-02-15 09:44:00\n",
       "3        4        60.0                Acua  2006-02-15 09:44:00\n",
       "4        5        97.0               Adana  2006-02-15 09:44:00"
      ]
     },
     "execution_count": 36,
     "metadata": {},
     "output_type": "execute_result"
    }
   ],
   "source": [
    "# Your code here\n",
    "city_df = city_df.merge(country_df, on = 'country', how = 'left')\n",
    "\n",
    "city_df = city_df[['city_id', 'country_id', 'city', 'last_update']]\n",
    "\n",
    "city_df.head()"
   ]
  },
  {
   "cell_type": "markdown",
   "metadata": {},
   "source": [
    "- **Rubah dataframe city pada table_dict**"
   ]
  },
  {
   "cell_type": "code",
   "execution_count": 37,
   "metadata": {},
   "outputs": [],
   "source": [
    "# Your code here\n",
    "table_dict['city'] = city_df"
   ]
  },
  {
   "cell_type": "markdown",
   "metadata": {},
   "source": [
    "- Setelah menyesuaikan kolom pada data aktual dengan requirements, **validasi** kolomnya kembali. Gunakan fungsi `check_columns`"
   ]
  },
  {
   "cell_type": "code",
   "execution_count": 38,
   "metadata": {},
   "outputs": [
    {
     "name": "stdout",
     "output_type": "stream",
     "text": [
      "=> STEP 3: Check Columns\n"
     ]
    }
   ],
   "source": [
    "check_columns(actual_table = table_dict,\n",
    "              requirements_table = requirements_table)"
   ]
  },
  {
   "cell_type": "markdown",
   "metadata": {},
   "source": [
    "- Hal tersebut menunjukkan kolom-kolom pada data aktual sudah sesuai dengan requirements."
   ]
  },
  {
   "cell_type": "markdown",
   "metadata": {},
   "source": [
    "#### 4.1.2. Handle Missing Values"
   ]
  },
  {
   "cell_type": "markdown",
   "metadata": {},
   "source": [
    "- Pada proses handle missing values ini akan dilakukan dropping missing values"
   ]
  },
  {
   "cell_type": "markdown",
   "metadata": {},
   "source": [
    "- **Buatlah fungsi** untuk remove missing values : **remove_missing_values**\n",
    "- Fungsi ini akan :\n",
    "    - Menghapus missing values pada setiap tabel.\n",
    "- Parameter :\n",
    "    - actual_table : Dictionary actual table (Data source 1, 2, 3)\n",
    "- Return :\n",
    "    - cleaned_actual_table : Dictionary actual table yang sudah bersih dari missing values"
   ]
  },
  {
   "cell_type": "code",
   "execution_count": 39,
   "metadata": {},
   "outputs": [],
   "source": [
    "# Your code here\n",
    "def remove_missing_values(actual_table):\n",
    "    cleaned_actual_table = {}\n",
    "\n",
    "    for table_name, df in actual_table.items():\n",
    "        cleaned_df = df.dropna() \n",
    "        cleaned_actual_table[table_name] = cleaned_df\n",
    "\n",
    "    return cleaned_actual_table"
   ]
  },
  {
   "cell_type": "markdown",
   "metadata": {},
   "source": [
    "- Update table_dict dengan data yang sudah tidak mempunyai missing values"
   ]
  },
  {
   "cell_type": "code",
   "execution_count": 40,
   "metadata": {},
   "outputs": [],
   "source": [
    "# Your code here\n",
    "table_dict = remove_missing_values(actual_table = table_dict)"
   ]
  },
  {
   "cell_type": "markdown",
   "metadata": {},
   "source": [
    "- Validasi missing valuenya kembali. Gunakan fungsi **check_missing_values**"
   ]
  },
  {
   "cell_type": "code",
   "execution_count": 41,
   "metadata": {},
   "outputs": [
    {
     "name": "stdout",
     "output_type": "stream",
     "text": [
      "=> STEP 5: Check Missing Values\n",
      "There's no Missing Values\n"
     ]
    }
   ],
   "source": [
    "check_missing_values(actual_table = table_dict)"
   ]
  },
  {
   "cell_type": "markdown",
   "metadata": {},
   "source": [
    "- Dapat dilihat bahwa missing values sudah terhandle."
   ]
  },
  {
   "cell_type": "markdown",
   "metadata": {},
   "source": [
    "#### 4.1.3. Handle Data Types"
   ]
  },
  {
   "cell_type": "markdown",
   "metadata": {},
   "source": [
    "- Pada proses handle data types akan dilakukan **casting tipe data** berdasarkan requirements yang telah diberikan.\n",
    "- **Buatlah fungsi** untuk menghandle Data Types : **adjust_data_types**\n",
    "- Fungsi ini akan :\n",
    "    - Melakukan casting tipe data sesuai dengan requirements.\n",
    "- Parameter :\n",
    "    - actual_table : Dictionary actual table (Data source 1, 2, 3)\n",
    "- Return :\n",
    "    - cleaned_actual_table : Dictionary actual table yang sudah bersih dari missing values"
   ]
  },
  {
   "cell_type": "code",
   "execution_count": 42,
   "metadata": {},
   "outputs": [],
   "source": [
    "# Your code here\n",
    "def adjust_data_types(actual_table, requirements_table):\n",
    "    adjusted_table_dict = {}\n",
    "\n",
    "    for table_name, df in actual_table.items():\n",
    "        if table_name in requirements_table:\n",
    "            table_requirements = requirements_table[table_name]\n",
    "\n",
    "            for column_info in table_requirements:\n",
    "                column_name = column_info[\"column_name\"]\n",
    "                data_type = column_info[\"data_type\"]\n",
    "\n",
    "                if column_name in df.columns:\n",
    "                    df[column_name] = df[column_name].astype(data_type)\n",
    "\n",
    "            adjusted_table_dict[table_name] = df\n",
    "\n",
    "    return adjusted_table_dict"
   ]
  },
  {
   "cell_type": "markdown",
   "metadata": {},
   "source": [
    "- Update table_dict dengan data yang sudah sesuai tipe datanya"
   ]
  },
  {
   "cell_type": "code",
   "execution_count": 43,
   "metadata": {},
   "outputs": [],
   "source": [
    "# Your code here\n",
    "table_dict = adjust_data_types(actual_table = table_dict, \n",
    "                               requirements_table = requirements_table)"
   ]
  },
  {
   "cell_type": "markdown",
   "metadata": {},
   "source": [
    "- Validasi tipe data dari kolom pada setiap tabel. Gunakan fungsi **check_data_types**"
   ]
  },
  {
   "cell_type": "code",
   "execution_count": 44,
   "metadata": {},
   "outputs": [
    {
     "name": "stdout",
     "output_type": "stream",
     "text": [
      "=> STEP 4: Check Data Types\n",
      "All Data Types Match\n"
     ]
    }
   ],
   "source": [
    "check_data_types(actual_table = table_dict, \n",
    "                 requirements_table = requirements_table)"
   ]
  },
  {
   "cell_type": "markdown",
   "metadata": {},
   "source": [
    "- Dapat dilihat bahwa tipe data pada data aktual sudah sesuai."
   ]
  },
  {
   "cell_type": "markdown",
   "metadata": {},
   "source": [
    "#### 4.1.4. Handle Duplicates Data"
   ]
  },
  {
   "cell_type": "markdown",
   "metadata": {},
   "source": [
    "- Pada proses handling data yang duplikat, akan dilakukan **drop data yang duplikat dengan mempertahankan record data yang pertama**.\n",
    "- Buatlah fungsi untuk menghandle Data Types : **remove_duplicates**\n",
    "- Fungsi ini akan :\n",
    "    - Melakukan drop data yang duplikat dengan mempertahankan record data yang pertama.\n",
    "- Parameter :\n",
    "    - actual_table : Dictionary actual table (Data source 1, 2, 3)\n",
    "- Return :\n",
    "    - cleaned_table_dict : Dictionary actual table yang sudah bersih dari missing values"
   ]
  },
  {
   "cell_type": "code",
   "execution_count": 45,
   "metadata": {},
   "outputs": [],
   "source": [
    "# Your code here\n",
    "def remove_duplicates(actual_table):\n",
    "    cleaned_table_dict = {}\n",
    "\n",
    "    for table_name, df in actual_table.items():\n",
    "        if table_name == 'city':\n",
    "            cleaned_df = df.drop_duplicates(keep = 'first')  # Menghapus data duplikat dengan mempertahankan record data yang pertama\n",
    "            cleaned_table_dict[table_name] = cleaned_df\n",
    "\n",
    "        else:\n",
    "            cleaned_table_dict[table_name] = df\n",
    "\n",
    "    return cleaned_table_dict"
   ]
  },
  {
   "cell_type": "markdown",
   "metadata": {},
   "source": [
    "- Update table_dict dengan data yang sudah tidak mempunyai data duplikat"
   ]
  },
  {
   "cell_type": "code",
   "execution_count": 46,
   "metadata": {},
   "outputs": [],
   "source": [
    "# Your code here\n",
    "table_dict = remove_duplicates(table_dict)"
   ]
  },
  {
   "cell_type": "markdown",
   "metadata": {},
   "source": [
    "- Validasi kembali data yang mengalami duplikat. Gunakan fungsi **check_duplicates_data**"
   ]
  },
  {
   "cell_type": "code",
   "execution_count": 47,
   "metadata": {},
   "outputs": [
    {
     "name": "stdout",
     "output_type": "stream",
     "text": [
      "=> STEP 6: Check Duplicates Data\n",
      "No Duplicate Data Found\n"
     ]
    }
   ],
   "source": [
    "check_duplicates_data(table_dict)"
   ]
  },
  {
   "cell_type": "markdown",
   "metadata": {},
   "source": [
    "### 4.2. Data Manipulation & Data Selection"
   ]
  },
  {
   "cell_type": "markdown",
   "metadata": {},
   "source": [
    "- Pada bagian ini, kita akan coba **generate sebuah tabel** yang merupakan kombinasi dari beberapa tabel.\n",
    "- Kita akan generate tabel `film_list`\n",
    "- Tabel tersebut akan disimpan pada database **dvdrental_analysis**\n",
    "- Tabel tersebut merupakan **kombinasi tabel :**\n",
    "    - `actor`\n",
    "    - `film_actor`\n",
    "    - `film`\n",
    "    - `film_category`\n",
    "    - `category`\n",
    "<center>\n",
    "<img src=\"https://sekolahdata-assets.s3.ap-southeast-1.amazonaws.com/notebook-images/mde-intro-to-data-eng/10_02.png\"/>"
   ]
  },
  {
   "cell_type": "markdown",
   "metadata": {},
   "source": [
    "- Kolom-kolom yang akan kita **generate** adalah :\n",
    "    - `fid` -> sama dengan film_id\n",
    "    - `title` -> Judul film\n",
    "    - `description` -> Deskripsi dari film\n",
    "    - `category` -> Kategori film\n",
    "    - `price` -> Harga film\n",
    "    - `length` -> Durasi film\n",
    "    - `rating` -> Rating film\n",
    "    - `actors` -> Nama-nama aktor film tersebut\n",
    "\n",
    "<center>\n",
    "<img src=\"https://sekolahdata-assets.s3.ap-southeast-1.amazonaws.com/notebook-images/mde-intro-to-data-eng/10_03.png\"/>\n",
    "<center>"
   ]
  },
  {
   "cell_type": "markdown",
   "metadata": {},
   "source": [
    "- Pertama, **persiapkan dataframe yang diperlukan.**\n",
    "- Dapatkan dataframenya dari **table_dict**"
   ]
  },
  {
   "cell_type": "code",
   "execution_count": 57,
   "metadata": {},
   "outputs": [],
   "source": [
    "# Your code here\n",
    "category = table_dict['category']\n",
    "film_category = table_dict['film_category']\n",
    "film = table_dict['film']\n",
    "film_actor = table_dict['film_actor']\n",
    "actor = table_dict['actor']"
   ]
  },
  {
   "cell_type": "markdown",
   "metadata": {},
   "source": [
    "- Gabungkan tabel-tabel yang diperlukan dengan melakukan **merge**.\n",
    "    - Merge : **Category -> film_category**\n",
    "    - on : **category_id**\n",
    "    - Join Type : **left join**\n",
    "    - Suffixes : (\"_x1\", \"_y1\")"
   ]
  },
  {
   "cell_type": "code",
   "execution_count": 58,
   "metadata": {},
   "outputs": [
    {
     "data": {
      "text/html": [
       "<div>\n",
       "<style scoped>\n",
       "    .dataframe tbody tr th:only-of-type {\n",
       "        vertical-align: middle;\n",
       "    }\n",
       "\n",
       "    .dataframe tbody tr th {\n",
       "        vertical-align: top;\n",
       "    }\n",
       "\n",
       "    .dataframe thead th {\n",
       "        text-align: right;\n",
       "    }\n",
       "</style>\n",
       "<table border=\"1\" class=\"dataframe\">\n",
       "  <thead>\n",
       "    <tr style=\"text-align: right;\">\n",
       "      <th></th>\n",
       "      <th>category_id</th>\n",
       "      <th>name</th>\n",
       "      <th>last_update_x1</th>\n",
       "      <th>film_id</th>\n",
       "      <th>last_update_y1</th>\n",
       "    </tr>\n",
       "  </thead>\n",
       "  <tbody>\n",
       "    <tr>\n",
       "      <th>0</th>\n",
       "      <td>1</td>\n",
       "      <td>Action</td>\n",
       "      <td>2006-02-15 09:46:27</td>\n",
       "      <td>19</td>\n",
       "      <td>2006-02-15 10:07:09</td>\n",
       "    </tr>\n",
       "    <tr>\n",
       "      <th>1</th>\n",
       "      <td>1</td>\n",
       "      <td>Action</td>\n",
       "      <td>2006-02-15 09:46:27</td>\n",
       "      <td>21</td>\n",
       "      <td>2006-02-15 10:07:09</td>\n",
       "    </tr>\n",
       "    <tr>\n",
       "      <th>2</th>\n",
       "      <td>1</td>\n",
       "      <td>Action</td>\n",
       "      <td>2006-02-15 09:46:27</td>\n",
       "      <td>29</td>\n",
       "      <td>2006-02-15 10:07:09</td>\n",
       "    </tr>\n",
       "    <tr>\n",
       "      <th>3</th>\n",
       "      <td>1</td>\n",
       "      <td>Action</td>\n",
       "      <td>2006-02-15 09:46:27</td>\n",
       "      <td>38</td>\n",
       "      <td>2006-02-15 10:07:09</td>\n",
       "    </tr>\n",
       "    <tr>\n",
       "      <th>4</th>\n",
       "      <td>1</td>\n",
       "      <td>Action</td>\n",
       "      <td>2006-02-15 09:46:27</td>\n",
       "      <td>56</td>\n",
       "      <td>2006-02-15 10:07:09</td>\n",
       "    </tr>\n",
       "  </tbody>\n",
       "</table>\n",
       "</div>"
      ],
      "text/plain": [
       "   category_id    name      last_update_x1  film_id      last_update_y1\n",
       "0            1  Action 2006-02-15 09:46:27       19 2006-02-15 10:07:09\n",
       "1            1  Action 2006-02-15 09:46:27       21 2006-02-15 10:07:09\n",
       "2            1  Action 2006-02-15 09:46:27       29 2006-02-15 10:07:09\n",
       "3            1  Action 2006-02-15 09:46:27       38 2006-02-15 10:07:09\n",
       "4            1  Action 2006-02-15 09:46:27       56 2006-02-15 10:07:09"
      ]
     },
     "execution_count": 58,
     "metadata": {},
     "output_type": "execute_result"
    }
   ],
   "source": [
    "# Your code here\n",
    "# Buat dataframe \"film_list\" untuk menyimpan hasil merge\n",
    "film_list = category.merge(film_category, how = 'left', on = 'category_id', suffixes = (\"_x1\", \"_y1\"))\n",
    "\n",
    "# Tampilkan 5 data \"film_list\" teratas\n",
    "film_list.head()"
   ]
  },
  {
   "cell_type": "markdown",
   "metadata": {},
   "source": [
    "- \n",
    "    - Merge : **film_list -> film**\n",
    "    - on : **film_id**\n",
    "    - Join Type : **left join**\n",
    "    - Suffixes : (\"_x2\", \"_y2\")"
   ]
  },
  {
   "cell_type": "code",
   "execution_count": 59,
   "metadata": {},
   "outputs": [
    {
     "data": {
      "text/html": [
       "<div>\n",
       "<style scoped>\n",
       "    .dataframe tbody tr th:only-of-type {\n",
       "        vertical-align: middle;\n",
       "    }\n",
       "\n",
       "    .dataframe tbody tr th {\n",
       "        vertical-align: top;\n",
       "    }\n",
       "\n",
       "    .dataframe thead th {\n",
       "        text-align: right;\n",
       "    }\n",
       "</style>\n",
       "<table border=\"1\" class=\"dataframe\">\n",
       "  <thead>\n",
       "    <tr style=\"text-align: right;\">\n",
       "      <th></th>\n",
       "      <th>category_id</th>\n",
       "      <th>name</th>\n",
       "      <th>last_update_x1</th>\n",
       "      <th>film_id</th>\n",
       "      <th>last_update_y1</th>\n",
       "      <th>title</th>\n",
       "      <th>description</th>\n",
       "      <th>release_year</th>\n",
       "      <th>language_id</th>\n",
       "      <th>rental_duration</th>\n",
       "      <th>rental_rate</th>\n",
       "      <th>length</th>\n",
       "      <th>replacement_cost</th>\n",
       "      <th>rating</th>\n",
       "      <th>last_update</th>\n",
       "      <th>special_features</th>\n",
       "      <th>fulltext</th>\n",
       "    </tr>\n",
       "  </thead>\n",
       "  <tbody>\n",
       "    <tr>\n",
       "      <th>0</th>\n",
       "      <td>1</td>\n",
       "      <td>Action</td>\n",
       "      <td>2006-02-15 09:46:27</td>\n",
       "      <td>19</td>\n",
       "      <td>2006-02-15 10:07:09</td>\n",
       "      <td>Amadeus Holy</td>\n",
       "      <td>A Emotional Display of a Pioneer And a Technic...</td>\n",
       "      <td>2006</td>\n",
       "      <td>1</td>\n",
       "      <td>6</td>\n",
       "      <td>0.99</td>\n",
       "      <td>113</td>\n",
       "      <td>20.99</td>\n",
       "      <td>PG</td>\n",
       "      <td>2013-05-26 14:50:58.951</td>\n",
       "      <td>[Commentaries, Deleted Scenes, Behind the Scenes]</td>\n",
       "      <td>'amadeus':1 'baloon':20 'battl':15 'display':5...</td>\n",
       "    </tr>\n",
       "    <tr>\n",
       "      <th>1</th>\n",
       "      <td>1</td>\n",
       "      <td>Action</td>\n",
       "      <td>2006-02-15 09:46:27</td>\n",
       "      <td>21</td>\n",
       "      <td>2006-02-15 10:07:09</td>\n",
       "      <td>American Circus</td>\n",
       "      <td>A Insightful Drama of a Girl And a Astronaut w...</td>\n",
       "      <td>2006</td>\n",
       "      <td>1</td>\n",
       "      <td>3</td>\n",
       "      <td>4.99</td>\n",
       "      <td>129</td>\n",
       "      <td>17.99</td>\n",
       "      <td>R</td>\n",
       "      <td>2013-05-26 14:50:58.951</td>\n",
       "      <td>[Commentaries, Behind the Scenes]</td>\n",
       "      <td>'administr':17 'american':1 'astronaut':11 'ci...</td>\n",
       "    </tr>\n",
       "    <tr>\n",
       "      <th>2</th>\n",
       "      <td>1</td>\n",
       "      <td>Action</td>\n",
       "      <td>2006-02-15 09:46:27</td>\n",
       "      <td>29</td>\n",
       "      <td>2006-02-15 10:07:09</td>\n",
       "      <td>Antitrust Tomatoes</td>\n",
       "      <td>A Fateful Yarn of a Womanizer And a Feminist w...</td>\n",
       "      <td>2006</td>\n",
       "      <td>1</td>\n",
       "      <td>5</td>\n",
       "      <td>2.99</td>\n",
       "      <td>168</td>\n",
       "      <td>11.99</td>\n",
       "      <td>NC-17</td>\n",
       "      <td>2013-05-26 14:50:58.951</td>\n",
       "      <td>[Trailers, Commentaries, Deleted Scenes]</td>\n",
       "      <td>'administr':17 'ancient':19 'antitrust':1 'dat...</td>\n",
       "    </tr>\n",
       "    <tr>\n",
       "      <th>3</th>\n",
       "      <td>1</td>\n",
       "      <td>Action</td>\n",
       "      <td>2006-02-15 09:46:27</td>\n",
       "      <td>38</td>\n",
       "      <td>2006-02-15 10:07:09</td>\n",
       "      <td>Ark Ridgemont</td>\n",
       "      <td>A Beautiful Yarn of a Pioneer And a Monkey who...</td>\n",
       "      <td>2006</td>\n",
       "      <td>1</td>\n",
       "      <td>6</td>\n",
       "      <td>0.99</td>\n",
       "      <td>68</td>\n",
       "      <td>25.99</td>\n",
       "      <td>NC-17</td>\n",
       "      <td>2013-05-26 14:50:58.951</td>\n",
       "      <td>[Trailers, Commentaries, Deleted Scenes, Behin...</td>\n",
       "      <td>'ark':1 'beauti':4 'desert':20 'explor':16 'mo...</td>\n",
       "    </tr>\n",
       "    <tr>\n",
       "      <th>4</th>\n",
       "      <td>1</td>\n",
       "      <td>Action</td>\n",
       "      <td>2006-02-15 09:46:27</td>\n",
       "      <td>56</td>\n",
       "      <td>2006-02-15 10:07:09</td>\n",
       "      <td>Barefoot Manchurian</td>\n",
       "      <td>A Intrepid Story of a Cat And a Student who mu...</td>\n",
       "      <td>2006</td>\n",
       "      <td>1</td>\n",
       "      <td>6</td>\n",
       "      <td>2.99</td>\n",
       "      <td>129</td>\n",
       "      <td>15.99</td>\n",
       "      <td>G</td>\n",
       "      <td>2013-05-26 14:50:58.951</td>\n",
       "      <td>[Trailers, Commentaries]</td>\n",
       "      <td>'abandon':19 'amus':20 'barefoot':1 'cat':8 'g...</td>\n",
       "    </tr>\n",
       "  </tbody>\n",
       "</table>\n",
       "</div>"
      ],
      "text/plain": [
       "   category_id    name      last_update_x1  film_id      last_update_y1  \\\n",
       "0            1  Action 2006-02-15 09:46:27       19 2006-02-15 10:07:09   \n",
       "1            1  Action 2006-02-15 09:46:27       21 2006-02-15 10:07:09   \n",
       "2            1  Action 2006-02-15 09:46:27       29 2006-02-15 10:07:09   \n",
       "3            1  Action 2006-02-15 09:46:27       38 2006-02-15 10:07:09   \n",
       "4            1  Action 2006-02-15 09:46:27       56 2006-02-15 10:07:09   \n",
       "\n",
       "                 title                                        description  \\\n",
       "0         Amadeus Holy  A Emotional Display of a Pioneer And a Technic...   \n",
       "1      American Circus  A Insightful Drama of a Girl And a Astronaut w...   \n",
       "2   Antitrust Tomatoes  A Fateful Yarn of a Womanizer And a Feminist w...   \n",
       "3        Ark Ridgemont  A Beautiful Yarn of a Pioneer And a Monkey who...   \n",
       "4  Barefoot Manchurian  A Intrepid Story of a Cat And a Student who mu...   \n",
       "\n",
       "   release_year  language_id  rental_duration  rental_rate  length  \\\n",
       "0          2006            1                6         0.99     113   \n",
       "1          2006            1                3         4.99     129   \n",
       "2          2006            1                5         2.99     168   \n",
       "3          2006            1                6         0.99      68   \n",
       "4          2006            1                6         2.99     129   \n",
       "\n",
       "   replacement_cost rating             last_update  \\\n",
       "0             20.99     PG 2013-05-26 14:50:58.951   \n",
       "1             17.99      R 2013-05-26 14:50:58.951   \n",
       "2             11.99  NC-17 2013-05-26 14:50:58.951   \n",
       "3             25.99  NC-17 2013-05-26 14:50:58.951   \n",
       "4             15.99      G 2013-05-26 14:50:58.951   \n",
       "\n",
       "                                    special_features  \\\n",
       "0  [Commentaries, Deleted Scenes, Behind the Scenes]   \n",
       "1                  [Commentaries, Behind the Scenes]   \n",
       "2           [Trailers, Commentaries, Deleted Scenes]   \n",
       "3  [Trailers, Commentaries, Deleted Scenes, Behin...   \n",
       "4                           [Trailers, Commentaries]   \n",
       "\n",
       "                                            fulltext  \n",
       "0  'amadeus':1 'baloon':20 'battl':15 'display':5...  \n",
       "1  'administr':17 'american':1 'astronaut':11 'ci...  \n",
       "2  'administr':17 'ancient':19 'antitrust':1 'dat...  \n",
       "3  'ark':1 'beauti':4 'desert':20 'explor':16 'mo...  \n",
       "4  'abandon':19 'amus':20 'barefoot':1 'cat':8 'g...  "
      ]
     },
     "execution_count": 59,
     "metadata": {},
     "output_type": "execute_result"
    }
   ],
   "source": [
    "# Your code here\n",
    "# Update dataframe \"film_list\" untuk menyimpan hasil merge\n",
    "film_list = film_list.merge(film, how = 'left', on = 'film_id', suffixes = (\"_x2\", \"_y2\"))\n",
    "\n",
    "# Tampilkan 5 data \"film_list\" teratas\n",
    "film_list.head()"
   ]
  },
  {
   "cell_type": "markdown",
   "metadata": {},
   "source": [
    "-\n",
    "    - Merge : **film_list -> film_actor**\n",
    "    - on : **film_id**\n",
    "    - Join Type : **inner join**\n",
    "    - Suffixes : (\"_x3\", \"_y3\")"
   ]
  },
  {
   "cell_type": "code",
   "execution_count": 60,
   "metadata": {},
   "outputs": [
    {
     "data": {
      "text/html": [
       "<div>\n",
       "<style scoped>\n",
       "    .dataframe tbody tr th:only-of-type {\n",
       "        vertical-align: middle;\n",
       "    }\n",
       "\n",
       "    .dataframe tbody tr th {\n",
       "        vertical-align: top;\n",
       "    }\n",
       "\n",
       "    .dataframe thead th {\n",
       "        text-align: right;\n",
       "    }\n",
       "</style>\n",
       "<table border=\"1\" class=\"dataframe\">\n",
       "  <thead>\n",
       "    <tr style=\"text-align: right;\">\n",
       "      <th></th>\n",
       "      <th>category_id</th>\n",
       "      <th>name</th>\n",
       "      <th>last_update_x1</th>\n",
       "      <th>film_id</th>\n",
       "      <th>last_update_y1</th>\n",
       "      <th>title</th>\n",
       "      <th>description</th>\n",
       "      <th>release_year</th>\n",
       "      <th>language_id</th>\n",
       "      <th>rental_duration</th>\n",
       "      <th>rental_rate</th>\n",
       "      <th>length</th>\n",
       "      <th>replacement_cost</th>\n",
       "      <th>rating</th>\n",
       "      <th>last_update_x3</th>\n",
       "      <th>special_features</th>\n",
       "      <th>fulltext</th>\n",
       "      <th>actor_id</th>\n",
       "      <th>last_update_y3</th>\n",
       "    </tr>\n",
       "  </thead>\n",
       "  <tbody>\n",
       "    <tr>\n",
       "      <th>0</th>\n",
       "      <td>1</td>\n",
       "      <td>Action</td>\n",
       "      <td>2006-02-15 09:46:27</td>\n",
       "      <td>19</td>\n",
       "      <td>2006-02-15 10:07:09</td>\n",
       "      <td>Amadeus Holy</td>\n",
       "      <td>A Emotional Display of a Pioneer And a Technic...</td>\n",
       "      <td>2006</td>\n",
       "      <td>1</td>\n",
       "      <td>6</td>\n",
       "      <td>0.99</td>\n",
       "      <td>113</td>\n",
       "      <td>20.99</td>\n",
       "      <td>PG</td>\n",
       "      <td>2013-05-26 14:50:58.951</td>\n",
       "      <td>[Commentaries, Deleted Scenes, Behind the Scenes]</td>\n",
       "      <td>'amadeus':1 'baloon':20 'battl':15 'display':5...</td>\n",
       "      <td>5</td>\n",
       "      <td>2006-02-15 10:05:03</td>\n",
       "    </tr>\n",
       "    <tr>\n",
       "      <th>1</th>\n",
       "      <td>1</td>\n",
       "      <td>Action</td>\n",
       "      <td>2006-02-15 09:46:27</td>\n",
       "      <td>19</td>\n",
       "      <td>2006-02-15 10:07:09</td>\n",
       "      <td>Amadeus Holy</td>\n",
       "      <td>A Emotional Display of a Pioneer And a Technic...</td>\n",
       "      <td>2006</td>\n",
       "      <td>1</td>\n",
       "      <td>6</td>\n",
       "      <td>0.99</td>\n",
       "      <td>113</td>\n",
       "      <td>20.99</td>\n",
       "      <td>PG</td>\n",
       "      <td>2013-05-26 14:50:58.951</td>\n",
       "      <td>[Commentaries, Deleted Scenes, Behind the Scenes]</td>\n",
       "      <td>'amadeus':1 'baloon':20 'battl':15 'display':5...</td>\n",
       "      <td>27</td>\n",
       "      <td>2006-02-15 10:05:03</td>\n",
       "    </tr>\n",
       "    <tr>\n",
       "      <th>2</th>\n",
       "      <td>1</td>\n",
       "      <td>Action</td>\n",
       "      <td>2006-02-15 09:46:27</td>\n",
       "      <td>19</td>\n",
       "      <td>2006-02-15 10:07:09</td>\n",
       "      <td>Amadeus Holy</td>\n",
       "      <td>A Emotional Display of a Pioneer And a Technic...</td>\n",
       "      <td>2006</td>\n",
       "      <td>1</td>\n",
       "      <td>6</td>\n",
       "      <td>0.99</td>\n",
       "      <td>113</td>\n",
       "      <td>20.99</td>\n",
       "      <td>PG</td>\n",
       "      <td>2013-05-26 14:50:58.951</td>\n",
       "      <td>[Commentaries, Deleted Scenes, Behind the Scenes]</td>\n",
       "      <td>'amadeus':1 'baloon':20 'battl':15 'display':5...</td>\n",
       "      <td>37</td>\n",
       "      <td>2006-02-15 10:05:03</td>\n",
       "    </tr>\n",
       "    <tr>\n",
       "      <th>3</th>\n",
       "      <td>1</td>\n",
       "      <td>Action</td>\n",
       "      <td>2006-02-15 09:46:27</td>\n",
       "      <td>19</td>\n",
       "      <td>2006-02-15 10:07:09</td>\n",
       "      <td>Amadeus Holy</td>\n",
       "      <td>A Emotional Display of a Pioneer And a Technic...</td>\n",
       "      <td>2006</td>\n",
       "      <td>1</td>\n",
       "      <td>6</td>\n",
       "      <td>0.99</td>\n",
       "      <td>113</td>\n",
       "      <td>20.99</td>\n",
       "      <td>PG</td>\n",
       "      <td>2013-05-26 14:50:58.951</td>\n",
       "      <td>[Commentaries, Deleted Scenes, Behind the Scenes]</td>\n",
       "      <td>'amadeus':1 'baloon':20 'battl':15 'display':5...</td>\n",
       "      <td>43</td>\n",
       "      <td>2006-02-15 10:05:03</td>\n",
       "    </tr>\n",
       "    <tr>\n",
       "      <th>4</th>\n",
       "      <td>1</td>\n",
       "      <td>Action</td>\n",
       "      <td>2006-02-15 09:46:27</td>\n",
       "      <td>19</td>\n",
       "      <td>2006-02-15 10:07:09</td>\n",
       "      <td>Amadeus Holy</td>\n",
       "      <td>A Emotional Display of a Pioneer And a Technic...</td>\n",
       "      <td>2006</td>\n",
       "      <td>1</td>\n",
       "      <td>6</td>\n",
       "      <td>0.99</td>\n",
       "      <td>113</td>\n",
       "      <td>20.99</td>\n",
       "      <td>PG</td>\n",
       "      <td>2013-05-26 14:50:58.951</td>\n",
       "      <td>[Commentaries, Deleted Scenes, Behind the Scenes]</td>\n",
       "      <td>'amadeus':1 'baloon':20 'battl':15 'display':5...</td>\n",
       "      <td>84</td>\n",
       "      <td>2006-02-15 10:05:03</td>\n",
       "    </tr>\n",
       "  </tbody>\n",
       "</table>\n",
       "</div>"
      ],
      "text/plain": [
       "   category_id    name      last_update_x1  film_id      last_update_y1  \\\n",
       "0            1  Action 2006-02-15 09:46:27       19 2006-02-15 10:07:09   \n",
       "1            1  Action 2006-02-15 09:46:27       19 2006-02-15 10:07:09   \n",
       "2            1  Action 2006-02-15 09:46:27       19 2006-02-15 10:07:09   \n",
       "3            1  Action 2006-02-15 09:46:27       19 2006-02-15 10:07:09   \n",
       "4            1  Action 2006-02-15 09:46:27       19 2006-02-15 10:07:09   \n",
       "\n",
       "          title                                        description  \\\n",
       "0  Amadeus Holy  A Emotional Display of a Pioneer And a Technic...   \n",
       "1  Amadeus Holy  A Emotional Display of a Pioneer And a Technic...   \n",
       "2  Amadeus Holy  A Emotional Display of a Pioneer And a Technic...   \n",
       "3  Amadeus Holy  A Emotional Display of a Pioneer And a Technic...   \n",
       "4  Amadeus Holy  A Emotional Display of a Pioneer And a Technic...   \n",
       "\n",
       "   release_year  language_id  rental_duration  rental_rate  length  \\\n",
       "0          2006            1                6         0.99     113   \n",
       "1          2006            1                6         0.99     113   \n",
       "2          2006            1                6         0.99     113   \n",
       "3          2006            1                6         0.99     113   \n",
       "4          2006            1                6         0.99     113   \n",
       "\n",
       "   replacement_cost rating          last_update_x3  \\\n",
       "0             20.99     PG 2013-05-26 14:50:58.951   \n",
       "1             20.99     PG 2013-05-26 14:50:58.951   \n",
       "2             20.99     PG 2013-05-26 14:50:58.951   \n",
       "3             20.99     PG 2013-05-26 14:50:58.951   \n",
       "4             20.99     PG 2013-05-26 14:50:58.951   \n",
       "\n",
       "                                    special_features  \\\n",
       "0  [Commentaries, Deleted Scenes, Behind the Scenes]   \n",
       "1  [Commentaries, Deleted Scenes, Behind the Scenes]   \n",
       "2  [Commentaries, Deleted Scenes, Behind the Scenes]   \n",
       "3  [Commentaries, Deleted Scenes, Behind the Scenes]   \n",
       "4  [Commentaries, Deleted Scenes, Behind the Scenes]   \n",
       "\n",
       "                                            fulltext  actor_id  \\\n",
       "0  'amadeus':1 'baloon':20 'battl':15 'display':5...         5   \n",
       "1  'amadeus':1 'baloon':20 'battl':15 'display':5...        27   \n",
       "2  'amadeus':1 'baloon':20 'battl':15 'display':5...        37   \n",
       "3  'amadeus':1 'baloon':20 'battl':15 'display':5...        43   \n",
       "4  'amadeus':1 'baloon':20 'battl':15 'display':5...        84   \n",
       "\n",
       "       last_update_y3  \n",
       "0 2006-02-15 10:05:03  \n",
       "1 2006-02-15 10:05:03  \n",
       "2 2006-02-15 10:05:03  \n",
       "3 2006-02-15 10:05:03  \n",
       "4 2006-02-15 10:05:03  "
      ]
     },
     "execution_count": 60,
     "metadata": {},
     "output_type": "execute_result"
    }
   ],
   "source": [
    "# Your code here\n",
    "# Update dataframe \"film_list\" untuk menyimpan hasil merge\n",
    "film_list = film_list.merge(film_actor, how = 'inner', on = 'film_id', suffixes = (\"_x3\", \"_y3\"))\n",
    "\n",
    "# Tampilkan 5 data \"film_list\" teratas\n",
    "film_list.head()"
   ]
  },
  {
   "cell_type": "markdown",
   "metadata": {},
   "source": [
    "- \n",
    "    - Merge : **film_list -> actor**\n",
    "    - on : **actor_id**\n",
    "    - Join Type : **inner join**\n",
    "    - Suffixes : (\"_x4\", \"_y4\")"
   ]
  },
  {
   "cell_type": "code",
   "execution_count": 61,
   "metadata": {},
   "outputs": [
    {
     "data": {
      "text/html": [
       "<div>\n",
       "<style scoped>\n",
       "    .dataframe tbody tr th:only-of-type {\n",
       "        vertical-align: middle;\n",
       "    }\n",
       "\n",
       "    .dataframe tbody tr th {\n",
       "        vertical-align: top;\n",
       "    }\n",
       "\n",
       "    .dataframe thead th {\n",
       "        text-align: right;\n",
       "    }\n",
       "</style>\n",
       "<table border=\"1\" class=\"dataframe\">\n",
       "  <thead>\n",
       "    <tr style=\"text-align: right;\">\n",
       "      <th></th>\n",
       "      <th>category_id</th>\n",
       "      <th>name</th>\n",
       "      <th>last_update_x1</th>\n",
       "      <th>film_id</th>\n",
       "      <th>last_update_y1</th>\n",
       "      <th>title</th>\n",
       "      <th>description</th>\n",
       "      <th>release_year</th>\n",
       "      <th>language_id</th>\n",
       "      <th>rental_duration</th>\n",
       "      <th>...</th>\n",
       "      <th>replacement_cost</th>\n",
       "      <th>rating</th>\n",
       "      <th>last_update_x3</th>\n",
       "      <th>special_features</th>\n",
       "      <th>fulltext</th>\n",
       "      <th>actor_id</th>\n",
       "      <th>last_update_y3</th>\n",
       "      <th>first_name</th>\n",
       "      <th>last_name</th>\n",
       "      <th>last_update</th>\n",
       "    </tr>\n",
       "  </thead>\n",
       "  <tbody>\n",
       "    <tr>\n",
       "      <th>0</th>\n",
       "      <td>1</td>\n",
       "      <td>Action</td>\n",
       "      <td>2006-02-15 09:46:27</td>\n",
       "      <td>19</td>\n",
       "      <td>2006-02-15 10:07:09</td>\n",
       "      <td>Amadeus Holy</td>\n",
       "      <td>A Emotional Display of a Pioneer And a Technic...</td>\n",
       "      <td>2006</td>\n",
       "      <td>1</td>\n",
       "      <td>6</td>\n",
       "      <td>...</td>\n",
       "      <td>20.99</td>\n",
       "      <td>PG</td>\n",
       "      <td>2013-05-26 14:50:58.951</td>\n",
       "      <td>[Commentaries, Deleted Scenes, Behind the Scenes]</td>\n",
       "      <td>'amadeus':1 'baloon':20 'battl':15 'display':5...</td>\n",
       "      <td>5</td>\n",
       "      <td>2006-02-15 10:05:03</td>\n",
       "      <td>Johnny</td>\n",
       "      <td>Lollobrigida</td>\n",
       "      <td>2013-05-26 14:47:57.620</td>\n",
       "    </tr>\n",
       "    <tr>\n",
       "      <th>1</th>\n",
       "      <td>1</td>\n",
       "      <td>Action</td>\n",
       "      <td>2006-02-15 09:46:27</td>\n",
       "      <td>375</td>\n",
       "      <td>2006-02-15 10:07:09</td>\n",
       "      <td>Grail Frankenstein</td>\n",
       "      <td>A Unbelieveable Saga of a Teacher And a Monkey...</td>\n",
       "      <td>2006</td>\n",
       "      <td>1</td>\n",
       "      <td>4</td>\n",
       "      <td>...</td>\n",
       "      <td>17.99</td>\n",
       "      <td>NC-17</td>\n",
       "      <td>2013-05-26 14:50:58.951</td>\n",
       "      <td>[Commentaries, Deleted Scenes, Behind the Scenes]</td>\n",
       "      <td>'abandon':19 'fight':14 'frankenstein':2 'girl...</td>\n",
       "      <td>5</td>\n",
       "      <td>2006-02-15 10:05:03</td>\n",
       "      <td>Johnny</td>\n",
       "      <td>Lollobrigida</td>\n",
       "      <td>2013-05-26 14:47:57.620</td>\n",
       "    </tr>\n",
       "    <tr>\n",
       "      <th>2</th>\n",
       "      <td>1</td>\n",
       "      <td>Action</td>\n",
       "      <td>2006-02-15 09:46:27</td>\n",
       "      <td>732</td>\n",
       "      <td>2006-02-15 10:07:09</td>\n",
       "      <td>Rings Heartbreakers</td>\n",
       "      <td>A Amazing Yarn of a Sumo Wrestler And a Boat w...</td>\n",
       "      <td>2006</td>\n",
       "      <td>1</td>\n",
       "      <td>5</td>\n",
       "      <td>...</td>\n",
       "      <td>17.99</td>\n",
       "      <td>G</td>\n",
       "      <td>2013-05-26 14:50:58.951</td>\n",
       "      <td>[Trailers, Commentaries, Behind the Scenes]</td>\n",
       "      <td>'amaz':4 'boat':12 'conquer':15 'heartbreak':2...</td>\n",
       "      <td>5</td>\n",
       "      <td>2006-02-15 10:05:03</td>\n",
       "      <td>Johnny</td>\n",
       "      <td>Lollobrigida</td>\n",
       "      <td>2013-05-26 14:47:57.620</td>\n",
       "    </tr>\n",
       "    <tr>\n",
       "      <th>3</th>\n",
       "      <td>2</td>\n",
       "      <td>Animation</td>\n",
       "      <td>2006-02-15 09:46:27</td>\n",
       "      <td>865</td>\n",
       "      <td>2006-02-15 10:07:09</td>\n",
       "      <td>Sunrise League</td>\n",
       "      <td>A Beautiful Epistle of a Madman And a Butler w...</td>\n",
       "      <td>2006</td>\n",
       "      <td>1</td>\n",
       "      <td>3</td>\n",
       "      <td>...</td>\n",
       "      <td>19.99</td>\n",
       "      <td>PG-13</td>\n",
       "      <td>2013-05-26 14:50:58.951</td>\n",
       "      <td>[Behind the Scenes]</td>\n",
       "      <td>'beauti':4 'butler':11 'crocodil':16 'epistl':...</td>\n",
       "      <td>5</td>\n",
       "      <td>2006-02-15 10:05:03</td>\n",
       "      <td>Johnny</td>\n",
       "      <td>Lollobrigida</td>\n",
       "      <td>2013-05-26 14:47:57.620</td>\n",
       "    </tr>\n",
       "    <tr>\n",
       "      <th>4</th>\n",
       "      <td>3</td>\n",
       "      <td>Children</td>\n",
       "      <td>2006-02-15 09:46:27</td>\n",
       "      <td>392</td>\n",
       "      <td>2006-02-15 10:07:09</td>\n",
       "      <td>Hall Cassidy</td>\n",
       "      <td>A Beautiful Panorama of a Pastry Chef And a A ...</td>\n",
       "      <td>2006</td>\n",
       "      <td>1</td>\n",
       "      <td>5</td>\n",
       "      <td>...</td>\n",
       "      <td>13.99</td>\n",
       "      <td>NC-17</td>\n",
       "      <td>2013-05-26 14:50:58.951</td>\n",
       "      <td>[Commentaries, Behind the Scenes]</td>\n",
       "      <td>'battl':16 'beauti':4 'cassidi':2 'chef':9 'ge...</td>\n",
       "      <td>5</td>\n",
       "      <td>2006-02-15 10:05:03</td>\n",
       "      <td>Johnny</td>\n",
       "      <td>Lollobrigida</td>\n",
       "      <td>2013-05-26 14:47:57.620</td>\n",
       "    </tr>\n",
       "  </tbody>\n",
       "</table>\n",
       "<p>5 rows × 22 columns</p>\n",
       "</div>"
      ],
      "text/plain": [
       "   category_id       name      last_update_x1  film_id      last_update_y1  \\\n",
       "0            1     Action 2006-02-15 09:46:27       19 2006-02-15 10:07:09   \n",
       "1            1     Action 2006-02-15 09:46:27      375 2006-02-15 10:07:09   \n",
       "2            1     Action 2006-02-15 09:46:27      732 2006-02-15 10:07:09   \n",
       "3            2  Animation 2006-02-15 09:46:27      865 2006-02-15 10:07:09   \n",
       "4            3   Children 2006-02-15 09:46:27      392 2006-02-15 10:07:09   \n",
       "\n",
       "                 title                                        description  \\\n",
       "0         Amadeus Holy  A Emotional Display of a Pioneer And a Technic...   \n",
       "1   Grail Frankenstein  A Unbelieveable Saga of a Teacher And a Monkey...   \n",
       "2  Rings Heartbreakers  A Amazing Yarn of a Sumo Wrestler And a Boat w...   \n",
       "3       Sunrise League  A Beautiful Epistle of a Madman And a Butler w...   \n",
       "4         Hall Cassidy  A Beautiful Panorama of a Pastry Chef And a A ...   \n",
       "\n",
       "   release_year  language_id  rental_duration  ...  replacement_cost  rating  \\\n",
       "0          2006            1                6  ...             20.99      PG   \n",
       "1          2006            1                4  ...             17.99   NC-17   \n",
       "2          2006            1                5  ...             17.99       G   \n",
       "3          2006            1                3  ...             19.99   PG-13   \n",
       "4          2006            1                5  ...             13.99   NC-17   \n",
       "\n",
       "           last_update_x3                                   special_features  \\\n",
       "0 2013-05-26 14:50:58.951  [Commentaries, Deleted Scenes, Behind the Scenes]   \n",
       "1 2013-05-26 14:50:58.951  [Commentaries, Deleted Scenes, Behind the Scenes]   \n",
       "2 2013-05-26 14:50:58.951        [Trailers, Commentaries, Behind the Scenes]   \n",
       "3 2013-05-26 14:50:58.951                                [Behind the Scenes]   \n",
       "4 2013-05-26 14:50:58.951                  [Commentaries, Behind the Scenes]   \n",
       "\n",
       "                                            fulltext actor_id  \\\n",
       "0  'amadeus':1 'baloon':20 'battl':15 'display':5...        5   \n",
       "1  'abandon':19 'fight':14 'frankenstein':2 'girl...        5   \n",
       "2  'amaz':4 'boat':12 'conquer':15 'heartbreak':2...        5   \n",
       "3  'beauti':4 'butler':11 'crocodil':16 'epistl':...        5   \n",
       "4  'battl':16 'beauti':4 'cassidi':2 'chef':9 'ge...        5   \n",
       "\n",
       "       last_update_y3  first_name     last_name             last_update  \n",
       "0 2006-02-15 10:05:03      Johnny  Lollobrigida 2013-05-26 14:47:57.620  \n",
       "1 2006-02-15 10:05:03      Johnny  Lollobrigida 2013-05-26 14:47:57.620  \n",
       "2 2006-02-15 10:05:03      Johnny  Lollobrigida 2013-05-26 14:47:57.620  \n",
       "3 2006-02-15 10:05:03      Johnny  Lollobrigida 2013-05-26 14:47:57.620  \n",
       "4 2006-02-15 10:05:03      Johnny  Lollobrigida 2013-05-26 14:47:57.620  \n",
       "\n",
       "[5 rows x 22 columns]"
      ]
     },
     "execution_count": 61,
     "metadata": {},
     "output_type": "execute_result"
    }
   ],
   "source": [
    "# Your code here\n",
    "# Update dataframe \"film_list\" untuk menyimpan hasil merge\n",
    "film_list = film_list.merge(actor, how = 'inner', on = 'actor_id', suffixes = (\"_x4\", \"_y4\"))\n",
    "\n",
    "# Tampilkan 5 data \"film_list\" teratas\n",
    "film_list.head()"
   ]
  },
  {
   "cell_type": "markdown",
   "metadata": {},
   "source": [
    "- Selanjutnya, **gabungkan** `first_name` dan `last_name` menjadi `full_name`"
   ]
  },
  {
   "cell_type": "code",
   "execution_count": 62,
   "metadata": {},
   "outputs": [
    {
     "data": {
      "text/plain": [
       "0       Johnny Lollobrigida\n",
       "1       Johnny Lollobrigida\n",
       "2       Johnny Lollobrigida\n",
       "3       Johnny Lollobrigida\n",
       "4       Johnny Lollobrigida\n",
       "               ...         \n",
       "5457           Milla Keitel\n",
       "5458           Milla Keitel\n",
       "5459           Milla Keitel\n",
       "5460           Milla Keitel\n",
       "5461           Milla Keitel\n",
       "Name: full_name, Length: 5462, dtype: object"
      ]
     },
     "execution_count": 62,
     "metadata": {},
     "output_type": "execute_result"
    }
   ],
   "source": [
    "# Gabungkan nama depan dan belakang aktor\n",
    "film_list['full_name'] = film_list['first_name'] + ' ' + film_list['last_name']\n",
    "\n",
    "# Tampilkan kolom \"full_name\"\n",
    "film_list['full_name']"
   ]
  },
  {
   "cell_type": "markdown",
   "metadata": {},
   "source": [
    "- Perlu diketahui bahwa satu film bisa terdiri dari beberapa aktor.\n",
    "- Oleh karena itu, **gabung nama-nama aktor tersebut di satu film yang sama**.\n",
    "- Contoh :\n",
    "    <center>\n",
    "    <img src=\"https://sekolahdata-assets.s3.ap-southeast-1.amazonaws.com/notebook-images/mde-intro-to-data-eng/10_04.png\"/>\n",
    "    <center>"
   ]
  },
  {
   "cell_type": "code",
   "execution_count": 63,
   "metadata": {},
   "outputs": [
    {
     "data": {
      "text/plain": [
       "film_id  title             description                                                                                                            name         rental_rate  length  rating\n",
       "1        Academy Dinosaur  A Epic Drama of a Feminist And a Mad Scientist who must Battle a Teacher in The Canadian Rockies                       Documentary  0.99         86      PG        Rock Dukakis, Mena Temple, Sandra Peck, Mary K...\n",
       "2        Ace Goldfinger    A Astounding Epistle of a Database Administrator And a Explorer who must Find a Car in Ancient China                   Horror       4.99         48      G         Bob Fawcett, Sean Guiness, Chris Depp, Minnie ...\n",
       "3        Adaptation Holes  A Astounding Reflection of a Lumberjack And a Car who must Sink a Lumberjack in A Baloon Factory                       Documentary  2.99         50      NC-17     Julianne Dench, Nick Wahlberg, Cameron Streep,...\n",
       "4        Affair Prejudice  A Fanciful Documentary of a Frisbee And a Lumberjack who must Chase a Monkey in A Shark Tank                           Horror       2.99         117     G         Jodie Degeneres, Scarlett Damon, Fay Winslet, ...\n",
       "5        African Egg       A Fast-Paced Documentary of a Pastry Chef And a Dentist who must Pursue a Forensic Psychologist in The Gulf of Mexico  Family       2.99         130     G         Dustin Tautou, Matthew Leigh, Gary Phoenix, Ma...\n",
       "Name: full_name, dtype: object"
      ]
     },
     "execution_count": 63,
     "metadata": {},
     "output_type": "execute_result"
    }
   ],
   "source": [
    "# Your code here\n",
    "# Gabungkan nama aktor menjadi satu string untuk setiap film\n",
    "film_list = film_list.groupby(['film_id', 'title', 'description', 'name', 'rental_rate', 'length', 'rating'])['full_name'].apply(lambda x: ', '.join(x))\n",
    "\n",
    "# Tampilkan 5 data teratas\n",
    "film_list.head()"
   ]
  },
  {
   "cell_type": "markdown",
   "metadata": {},
   "source": [
    "- Hasil tersebut **masih berupa \"series\"**\n",
    "- Oleh karena itu, **rubah menjadi dataframe**"
   ]
  },
  {
   "cell_type": "code",
   "execution_count": 64,
   "metadata": {},
   "outputs": [
    {
     "data": {
      "text/html": [
       "<div>\n",
       "<style scoped>\n",
       "    .dataframe tbody tr th:only-of-type {\n",
       "        vertical-align: middle;\n",
       "    }\n",
       "\n",
       "    .dataframe tbody tr th {\n",
       "        vertical-align: top;\n",
       "    }\n",
       "\n",
       "    .dataframe thead th {\n",
       "        text-align: right;\n",
       "    }\n",
       "</style>\n",
       "<table border=\"1\" class=\"dataframe\">\n",
       "  <thead>\n",
       "    <tr style=\"text-align: right;\">\n",
       "      <th></th>\n",
       "      <th>film_id</th>\n",
       "      <th>title</th>\n",
       "      <th>description</th>\n",
       "      <th>name</th>\n",
       "      <th>rental_rate</th>\n",
       "      <th>length</th>\n",
       "      <th>rating</th>\n",
       "      <th>full_name</th>\n",
       "    </tr>\n",
       "  </thead>\n",
       "  <tbody>\n",
       "    <tr>\n",
       "      <th>0</th>\n",
       "      <td>1</td>\n",
       "      <td>Academy Dinosaur</td>\n",
       "      <td>A Epic Drama of a Feminist And a Mad Scientist...</td>\n",
       "      <td>Documentary</td>\n",
       "      <td>0.99</td>\n",
       "      <td>86</td>\n",
       "      <td>PG</td>\n",
       "      <td>Rock Dukakis, Mena Temple, Sandra Peck, Mary K...</td>\n",
       "    </tr>\n",
       "    <tr>\n",
       "      <th>1</th>\n",
       "      <td>2</td>\n",
       "      <td>Ace Goldfinger</td>\n",
       "      <td>A Astounding Epistle of a Database Administrat...</td>\n",
       "      <td>Horror</td>\n",
       "      <td>4.99</td>\n",
       "      <td>48</td>\n",
       "      <td>G</td>\n",
       "      <td>Bob Fawcett, Sean Guiness, Chris Depp, Minnie ...</td>\n",
       "    </tr>\n",
       "    <tr>\n",
       "      <th>2</th>\n",
       "      <td>3</td>\n",
       "      <td>Adaptation Holes</td>\n",
       "      <td>A Astounding Reflection of a Lumberjack And a ...</td>\n",
       "      <td>Documentary</td>\n",
       "      <td>2.99</td>\n",
       "      <td>50</td>\n",
       "      <td>NC-17</td>\n",
       "      <td>Julianne Dench, Nick Wahlberg, Cameron Streep,...</td>\n",
       "    </tr>\n",
       "    <tr>\n",
       "      <th>3</th>\n",
       "      <td>4</td>\n",
       "      <td>Affair Prejudice</td>\n",
       "      <td>A Fanciful Documentary of a Frisbee And a Lumb...</td>\n",
       "      <td>Horror</td>\n",
       "      <td>2.99</td>\n",
       "      <td>117</td>\n",
       "      <td>G</td>\n",
       "      <td>Jodie Degeneres, Scarlett Damon, Fay Winslet, ...</td>\n",
       "    </tr>\n",
       "    <tr>\n",
       "      <th>4</th>\n",
       "      <td>5</td>\n",
       "      <td>African Egg</td>\n",
       "      <td>A Fast-Paced Documentary of a Pastry Chef And ...</td>\n",
       "      <td>Family</td>\n",
       "      <td>2.99</td>\n",
       "      <td>130</td>\n",
       "      <td>G</td>\n",
       "      <td>Dustin Tautou, Matthew Leigh, Gary Phoenix, Ma...</td>\n",
       "    </tr>\n",
       "  </tbody>\n",
       "</table>\n",
       "</div>"
      ],
      "text/plain": [
       "   film_id             title  \\\n",
       "0        1  Academy Dinosaur   \n",
       "1        2    Ace Goldfinger   \n",
       "2        3  Adaptation Holes   \n",
       "3        4  Affair Prejudice   \n",
       "4        5       African Egg   \n",
       "\n",
       "                                         description         name  \\\n",
       "0  A Epic Drama of a Feminist And a Mad Scientist...  Documentary   \n",
       "1  A Astounding Epistle of a Database Administrat...       Horror   \n",
       "2  A Astounding Reflection of a Lumberjack And a ...  Documentary   \n",
       "3  A Fanciful Documentary of a Frisbee And a Lumb...       Horror   \n",
       "4  A Fast-Paced Documentary of a Pastry Chef And ...       Family   \n",
       "\n",
       "   rental_rate  length rating  \\\n",
       "0         0.99      86     PG   \n",
       "1         4.99      48      G   \n",
       "2         2.99      50  NC-17   \n",
       "3         2.99     117      G   \n",
       "4         2.99     130      G   \n",
       "\n",
       "                                           full_name  \n",
       "0  Rock Dukakis, Mena Temple, Sandra Peck, Mary K...  \n",
       "1  Bob Fawcett, Sean Guiness, Chris Depp, Minnie ...  \n",
       "2  Julianne Dench, Nick Wahlberg, Cameron Streep,...  \n",
       "3  Jodie Degeneres, Scarlett Damon, Fay Winslet, ...  \n",
       "4  Dustin Tautou, Matthew Leigh, Gary Phoenix, Ma...  "
      ]
     },
     "execution_count": 64,
     "metadata": {},
     "output_type": "execute_result"
    }
   ],
   "source": [
    "# Your code here\n",
    "# Rubah dari series menjadi dataframe\n",
    "film_list = pd.DataFrame(film_list).reset_index()\n",
    "\n",
    "# Tampilkan 5 data teratas\n",
    "film_list.head()"
   ]
  },
  {
   "cell_type": "markdown",
   "metadata": {},
   "source": [
    "- Terakhir, **rubah nama kolom**.\n",
    "    - `film_id` : `fid`\n",
    "    - `name` : `category`\n",
    "    - `rental_rate` : `price`\n",
    "    - `full_name` : `actors`"
   ]
  },
  {
   "cell_type": "code",
   "execution_count": 65,
   "metadata": {},
   "outputs": [
    {
     "data": {
      "text/html": [
       "<div>\n",
       "<style scoped>\n",
       "    .dataframe tbody tr th:only-of-type {\n",
       "        vertical-align: middle;\n",
       "    }\n",
       "\n",
       "    .dataframe tbody tr th {\n",
       "        vertical-align: top;\n",
       "    }\n",
       "\n",
       "    .dataframe thead th {\n",
       "        text-align: right;\n",
       "    }\n",
       "</style>\n",
       "<table border=\"1\" class=\"dataframe\">\n",
       "  <thead>\n",
       "    <tr style=\"text-align: right;\">\n",
       "      <th></th>\n",
       "      <th>fid</th>\n",
       "      <th>title</th>\n",
       "      <th>description</th>\n",
       "      <th>category</th>\n",
       "      <th>price</th>\n",
       "      <th>length</th>\n",
       "      <th>rating</th>\n",
       "      <th>actors</th>\n",
       "    </tr>\n",
       "  </thead>\n",
       "  <tbody>\n",
       "    <tr>\n",
       "      <th>0</th>\n",
       "      <td>1</td>\n",
       "      <td>Academy Dinosaur</td>\n",
       "      <td>A Epic Drama of a Feminist And a Mad Scientist...</td>\n",
       "      <td>Documentary</td>\n",
       "      <td>0.99</td>\n",
       "      <td>86</td>\n",
       "      <td>PG</td>\n",
       "      <td>Rock Dukakis, Mena Temple, Sandra Peck, Mary K...</td>\n",
       "    </tr>\n",
       "    <tr>\n",
       "      <th>1</th>\n",
       "      <td>2</td>\n",
       "      <td>Ace Goldfinger</td>\n",
       "      <td>A Astounding Epistle of a Database Administrat...</td>\n",
       "      <td>Horror</td>\n",
       "      <td>4.99</td>\n",
       "      <td>48</td>\n",
       "      <td>G</td>\n",
       "      <td>Bob Fawcett, Sean Guiness, Chris Depp, Minnie ...</td>\n",
       "    </tr>\n",
       "    <tr>\n",
       "      <th>2</th>\n",
       "      <td>3</td>\n",
       "      <td>Adaptation Holes</td>\n",
       "      <td>A Astounding Reflection of a Lumberjack And a ...</td>\n",
       "      <td>Documentary</td>\n",
       "      <td>2.99</td>\n",
       "      <td>50</td>\n",
       "      <td>NC-17</td>\n",
       "      <td>Julianne Dench, Nick Wahlberg, Cameron Streep,...</td>\n",
       "    </tr>\n",
       "    <tr>\n",
       "      <th>3</th>\n",
       "      <td>4</td>\n",
       "      <td>Affair Prejudice</td>\n",
       "      <td>A Fanciful Documentary of a Frisbee And a Lumb...</td>\n",
       "      <td>Horror</td>\n",
       "      <td>2.99</td>\n",
       "      <td>117</td>\n",
       "      <td>G</td>\n",
       "      <td>Jodie Degeneres, Scarlett Damon, Fay Winslet, ...</td>\n",
       "    </tr>\n",
       "    <tr>\n",
       "      <th>4</th>\n",
       "      <td>5</td>\n",
       "      <td>African Egg</td>\n",
       "      <td>A Fast-Paced Documentary of a Pastry Chef And ...</td>\n",
       "      <td>Family</td>\n",
       "      <td>2.99</td>\n",
       "      <td>130</td>\n",
       "      <td>G</td>\n",
       "      <td>Dustin Tautou, Matthew Leigh, Gary Phoenix, Ma...</td>\n",
       "    </tr>\n",
       "  </tbody>\n",
       "</table>\n",
       "</div>"
      ],
      "text/plain": [
       "   fid             title                                        description  \\\n",
       "0    1  Academy Dinosaur  A Epic Drama of a Feminist And a Mad Scientist...   \n",
       "1    2    Ace Goldfinger  A Astounding Epistle of a Database Administrat...   \n",
       "2    3  Adaptation Holes  A Astounding Reflection of a Lumberjack And a ...   \n",
       "3    4  Affair Prejudice  A Fanciful Documentary of a Frisbee And a Lumb...   \n",
       "4    5       African Egg  A Fast-Paced Documentary of a Pastry Chef And ...   \n",
       "\n",
       "      category  price  length rating  \\\n",
       "0  Documentary   0.99      86     PG   \n",
       "1       Horror   4.99      48      G   \n",
       "2  Documentary   2.99      50  NC-17   \n",
       "3       Horror   2.99     117      G   \n",
       "4       Family   2.99     130      G   \n",
       "\n",
       "                                              actors  \n",
       "0  Rock Dukakis, Mena Temple, Sandra Peck, Mary K...  \n",
       "1  Bob Fawcett, Sean Guiness, Chris Depp, Minnie ...  \n",
       "2  Julianne Dench, Nick Wahlberg, Cameron Streep,...  \n",
       "3  Jodie Degeneres, Scarlett Damon, Fay Winslet, ...  \n",
       "4  Dustin Tautou, Matthew Leigh, Gary Phoenix, Ma...  "
      ]
     },
     "execution_count": 65,
     "metadata": {},
     "output_type": "execute_result"
    }
   ],
   "source": [
    "# Your code here\n",
    "# Buat mapping perubahan nama kolom\n",
    "rename_column_map = {\n",
    "    'film_id' : 'fid',\n",
    "    'name' : 'category',\n",
    "    'rental_rate' : 'price',\n",
    "    'full_name' : 'actors'\n",
    "}\n",
    "# Your code here\n",
    "# Rubah nama kolom\n",
    "film_list.rename(columns = rename_column_map, inplace = True) \n",
    "\n",
    "# Tampilkan 5 data teratas\n",
    "film_list.head()"
   ]
  },
  {
   "cell_type": "markdown",
   "metadata": {},
   "source": [
    "## 5. Load Data To Data Warehouse"
   ]
  },
  {
   "cell_type": "markdown",
   "metadata": {},
   "source": [
    "### 5.1. Setup Connection\n",
    "- Buat fungsi untuk membuat engine postgres.\n",
    "    - user = \"root\"\n",
    "    - password = \"qwerty123\"\n",
    "    - host = \"localhost\"\n",
    "    - port = \"3000\"\n",
    "- Parameter : Nama database"
   ]
  },
  {
   "cell_type": "code",
   "execution_count": 66,
   "metadata": {},
   "outputs": [],
   "source": [
    "# Your code here\n",
    "def dw_postgres_engine(database_name):\n",
    "    \n",
    "    # Koneksi ke database\n",
    "    user = \"root\"\n",
    "    password = \"qwerty123\"\n",
    "    host = \"localhost\"\n",
    "    port = \"3000\"\n",
    "    \n",
    "    engine = create_engine(f\"postgresql://{user}:{password}@{host}:{port}/{database_name}\")\n",
    "\n",
    "    return engine"
   ]
  },
  {
   "cell_type": "markdown",
   "metadata": {},
   "source": [
    "### 5.2. Load to \"dvdrental_clean\" Database"
   ]
  },
  {
   "cell_type": "markdown",
   "metadata": {},
   "source": [
    "#### 5.2.1. Create table\n",
    "- Buatlah table untuk database tersebut.\n",
    "- Gunakan schema berikut :\n",
    "    ```sql\n",
    "    -- Membuat skema public jika belum ada\n",
    "    CREATE SCHEMA IF NOT EXISTS public;\n",
    "\n",
    "    -- Buat tabel\n",
    "    CREATE TABLE public.actor (\n",
    "        actor_id SERIAL PRIMARY KEY,\n",
    "        last_update TIMESTAMP,\n",
    "        first_name VARCHAR,\n",
    "        last_name VARCHAR\n",
    "    );\n",
    "\n",
    "    CREATE TABLE public.store (\n",
    "        store_id SERIAL PRIMARY KEY,\n",
    "        manager_staff_id INTEGER,\n",
    "        address_id INTEGER,\n",
    "        last_update TIMESTAMP\n",
    "    );\n",
    "\n",
    "    CREATE TABLE public.address (\n",
    "        last_update TIMESTAMP,\n",
    "        city_id INTEGER,\n",
    "        address_id SERIAL PRIMARY KEY,\n",
    "        district VARCHAR,\n",
    "        phone VARCHAR,\n",
    "        postal_code VARCHAR,\n",
    "        address VARCHAR,\n",
    "        address2 VARCHAR\n",
    "    );\n",
    "\n",
    "    CREATE TABLE public.category (\n",
    "        category_id SERIAL PRIMARY KEY,\n",
    "        last_update TIMESTAMP,\n",
    "        name VARCHAR\n",
    "    );\n",
    "\n",
    "    CREATE TABLE public.city (\n",
    "        city_id SERIAL PRIMARY KEY,\n",
    "        country_id INTEGER,\n",
    "        last_update TIMESTAMP,\n",
    "        city VARCHAR\n",
    "    );\n",
    "\n",
    "    CREATE TABLE public.country (\n",
    "        country_id SERIAL PRIMARY KEY,\n",
    "        last_update TIMESTAMP,\n",
    "        country VARCHAR\n",
    "    );\n",
    "\n",
    "    CREATE TABLE public.customer (\n",
    "        active INTEGER,\n",
    "        store_id INTEGER,\n",
    "        create_date TIMESTAMP,\n",
    "        last_update TIMESTAMP,\n",
    "        customer_id SERIAL PRIMARY KEY,\n",
    "        address_id INTEGER,\n",
    "        activebool BOOLEAN,\n",
    "        first_name VARCHAR,\n",
    "        last_name VARCHAR,\n",
    "        email VARCHAR\n",
    "    );\n",
    "\n",
    "    CREATE TABLE public.film_actor (\n",
    "        actor_id SERIAL PRIMARY KEY,\n",
    "        film_id INTEGER,\n",
    "        last_update TIMESTAMP\n",
    "    );\n",
    "\n",
    "    CREATE TABLE public.film_category (\n",
    "        film_id SERIAL PRIMARY KEY,\n",
    "        category_id INTEGER,\n",
    "        last_update TIMESTAMP\n",
    "    );\n",
    "\n",
    "    CREATE TABLE public.inventory (\n",
    "        inventory_id SERIAL PRIMARY KEY,\n",
    "        film_id INTEGER,\n",
    "        store_id INTEGER,\n",
    "        last_update TIMESTAMP\n",
    "    );\n",
    "\n",
    "    CREATE TABLE public.language (\n",
    "        language_id SERIAL PRIMARY KEY,\n",
    "        last_update TIMESTAMP,\n",
    "        name VARCHAR\n",
    "    );\n",
    "\n",
    "    CREATE TABLE public.rental (\n",
    "        rental_id SERIAL PRIMARY KEY,\n",
    "        rental_date TIMESTAMP,\n",
    "        inventory_id INTEGER,\n",
    "        customer_id INTEGER,\n",
    "        return_date TIMESTAMP,\n",
    "        staff_id INTEGER,\n",
    "        last_update TIMESTAMP\n",
    "    );\n",
    "\n",
    "    CREATE TABLE public.staff (\n",
    "        picture VARCHAR,\n",
    "        address_id INTEGER,\n",
    "        store_id INTEGER,\n",
    "        active BOOLEAN,\n",
    "        last_update TIMESTAMP,\n",
    "        staff_id SERIAL PRIMARY KEY,\n",
    "        first_name VARCHAR,\n",
    "        last_name VARCHAR,\n",
    "        password VARCHAR,\n",
    "        email VARCHAR,\n",
    "        username VARCHAR\n",
    "    );\n",
    "\n",
    "    CREATE TABLE public.payment (\n",
    "        payment_id SERIAL PRIMARY KEY,\n",
    "        customer_id INTEGER,\n",
    "        staff_id INTEGER,\n",
    "        rental_id INTEGER,\n",
    "        amount FLOAT,\n",
    "        payment_date TIMESTAMP\n",
    "    );\n",
    "\n",
    "    CREATE TABLE public.film (\n",
    "        fulltext VARCHAR,\n",
    "        rating VARCHAR,\n",
    "        last_update TIMESTAMP,\n",
    "        film_id SERIAL PRIMARY KEY,\n",
    "        release_year INTEGER,\n",
    "        language_id INTEGER,\n",
    "        rental_duration INTEGER,\n",
    "        rental_rate FLOAT,\n",
    "        length INTEGER,\n",
    "        replacement_cost FLOAT,\n",
    "        title VARCHAR,\n",
    "        description VARCHAR,\n",
    "        special_features VARCHAR\n",
    "    );\n",
    "```"
   ]
  },
  {
   "cell_type": "markdown",
   "metadata": {},
   "source": [
    "#### 5.2.2. Load Data\n",
    "- Lakukan load data ke \"dvdrental_analysis\" database"
   ]
  },
  {
   "cell_type": "code",
   "execution_count": 67,
   "metadata": {},
   "outputs": [],
   "source": [
    "# Your code here\n",
    "# Buat engine postgres\n",
    "engine = dw_postgres_engine(database_name = 'dvdrental_clean')\n",
    "\n",
    "# Iterasi melalui dictionary table_dict\n",
    "for table_name, df in table_dict.items():\n",
    "    # Insert data ke table\n",
    "    df.to_sql(table_name, engine, if_exists = 'replace', index = False)\n",
    "\n",
    "# Tutup koneksi ke database\n",
    "engine.dispose()"
   ]
  },
  {
   "cell_type": "markdown",
   "metadata": {},
   "source": [
    "### 5.3. Load to \"dvdrental_analysis\" Database"
   ]
  },
  {
   "cell_type": "markdown",
   "metadata": {},
   "source": [
    "#### 5.3.1. Create Table\n",
    "- Buatlah table untuk database tersebut.\n",
    "- Gunakan schema berikut :\n",
    "    ```sql\n",
    "    -- Membuat skema public jika belum ada\n",
    "    CREATE SCHEMA IF NOT EXISTS public;\n",
    "\n",
    "    -- Membuat tabel film_list\n",
    "    CREATE TABLE public.film_list (\n",
    "        fid SERIAL PRIMARY KEY,\n",
    "        title VARCHAR,\n",
    "        description VARCHAR,\n",
    "        category VARCHAR,\n",
    "        price FLOAT,\n",
    "        length INTEGER,\n",
    "        rating VARCHAR,\n",
    "        actors VARCHAR\n",
    "    );\n",
    "    ```"
   ]
  },
  {
   "cell_type": "markdown",
   "metadata": {},
   "source": [
    "#### 5.3.2. Load Data\n",
    "- Lakukan load data ke \"dvdrental_analysis\" database"
   ]
  },
  {
   "cell_type": "code",
   "execution_count": 68,
   "metadata": {},
   "outputs": [],
   "source": [
    "# Your code here\n",
    "# Buat engine postgres\n",
    "engine = dw_postgres_engine(database_name = \"dvdrental_analysis\")\n",
    "\n",
    "# Insert data ke table film_list\n",
    "film_list.to_sql('film_list', engine, if_exists = 'replace', index = False)\n",
    "\n",
    "# Tutup koneksi ke database\n",
    "engine.dispose()"
   ]
  }
 ],
 "metadata": {
  "kernelspec": {
   "display_name": "base",
   "language": "python",
   "name": "python3"
  },
  "language_info": {
   "codemirror_mode": {
    "name": "ipython",
    "version": 3
   },
   "file_extension": ".py",
   "mimetype": "text/x-python",
   "name": "python",
   "nbconvert_exporter": "python",
   "pygments_lexer": "ipython3",
   "version": "3.11.4"
  }
 },
 "nbformat": 4,
 "nbformat_minor": 2
}
