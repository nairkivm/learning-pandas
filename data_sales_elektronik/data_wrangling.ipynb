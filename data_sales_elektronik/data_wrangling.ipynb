{
 "cells": [
  {
   "cell_type": "code",
   "execution_count": 1,
   "metadata": {},
   "outputs": [],
   "source": [
    "# Import packages\n",
    "import pandas as pd"
   ]
  },
  {
   "cell_type": "markdown",
   "metadata": {},
   "source": [
    "Read sales_data_2019.csv dataset menggunakan pandas"
   ]
  },
  {
   "cell_type": "code",
   "execution_count": 4,
   "metadata": {},
   "outputs": [],
   "source": [
    "salesDataframe = pd.read_csv('data/sales_data_2019.csv')"
   ]
  },
  {
   "cell_type": "markdown",
   "metadata": {},
   "source": [
    "- Hilangkan kolom `Order ID` dari data sales tersebut\n",
    "- Atur ulang urutan dari kolom tersebut menjadi berikut:\n",
    "    - `Order Date`\n",
    "    - `Product`\n",
    "    - `Quantity Ordered`\n",
    "    - `Price Each`\n",
    "    - `Purchase Address`"
   ]
  },
  {
   "cell_type": "code",
   "execution_count": 5,
   "metadata": {},
   "outputs": [],
   "source": [
    "salesColumns = [\n",
    "    'Order Date',\n",
    "    'Product',\n",
    "    'Quantity Ordered',\n",
    "    'Price Each',\n",
    "    'Purchase Address'\n",
    "]\n",
    "salesDataframe = salesDataframe[salesColumns]"
   ]
  },
  {
   "cell_type": "markdown",
   "metadata": {},
   "source": [
    "- Lakukan proses slicing data dimulai dari index `150` sampai dengan `4213`"
   ]
  },
  {
   "cell_type": "code",
   "execution_count": 6,
   "metadata": {},
   "outputs": [
    {
     "data": {
      "text/html": [
       "<div>\n",
       "<style scoped>\n",
       "    .dataframe tbody tr th:only-of-type {\n",
       "        vertical-align: middle;\n",
       "    }\n",
       "\n",
       "    .dataframe tbody tr th {\n",
       "        vertical-align: top;\n",
       "    }\n",
       "\n",
       "    .dataframe thead th {\n",
       "        text-align: right;\n",
       "    }\n",
       "</style>\n",
       "<table border=\"1\" class=\"dataframe\">\n",
       "  <thead>\n",
       "    <tr style=\"text-align: right;\">\n",
       "      <th></th>\n",
       "      <th>Order Date</th>\n",
       "      <th>Product</th>\n",
       "      <th>Quantity Ordered</th>\n",
       "      <th>Price Each</th>\n",
       "      <th>Purchase Address</th>\n",
       "    </tr>\n",
       "  </thead>\n",
       "  <tbody>\n",
       "    <tr>\n",
       "      <th>150</th>\n",
       "      <td>12/19/19 12:57</td>\n",
       "      <td>Lightning Charging Cable</td>\n",
       "      <td>1.0</td>\n",
       "      <td>14.95</td>\n",
       "      <td>943 Johnson St, San Francisco, CA 94016</td>\n",
       "    </tr>\n",
       "    <tr>\n",
       "      <th>151</th>\n",
       "      <td>12/11/19 19:45</td>\n",
       "      <td>34in Ultrawide Monitor</td>\n",
       "      <td>1.0</td>\n",
       "      <td>379.99</td>\n",
       "      <td>838 Ridge St, San Francisco, CA 94016</td>\n",
       "    </tr>\n",
       "    <tr>\n",
       "      <th>152</th>\n",
       "      <td>12/24/19 10:39</td>\n",
       "      <td>Lightning Charging Cable</td>\n",
       "      <td>1.0</td>\n",
       "      <td>14.95</td>\n",
       "      <td>513 Maple St, Los Angeles, CA 90001</td>\n",
       "    </tr>\n",
       "    <tr>\n",
       "      <th>153</th>\n",
       "      <td>12/20/19 02:31</td>\n",
       "      <td>Apple Airpods Headphones</td>\n",
       "      <td>1.0</td>\n",
       "      <td>150.00</td>\n",
       "      <td>705 4th St, Los Angeles, CA 90001</td>\n",
       "    </tr>\n",
       "    <tr>\n",
       "      <th>154</th>\n",
       "      <td>12/06/19 14:55</td>\n",
       "      <td>Wired Headphones</td>\n",
       "      <td>1.0</td>\n",
       "      <td>11.99</td>\n",
       "      <td>528 Willow St, New York City, NY 10001</td>\n",
       "    </tr>\n",
       "    <tr>\n",
       "      <th>...</th>\n",
       "      <td>...</td>\n",
       "      <td>...</td>\n",
       "      <td>...</td>\n",
       "      <td>...</td>\n",
       "      <td>...</td>\n",
       "    </tr>\n",
       "    <tr>\n",
       "      <th>4209</th>\n",
       "      <td>12/05/19 19:50</td>\n",
       "      <td>USB-C Charging Cable</td>\n",
       "      <td>1.0</td>\n",
       "      <td>11.95</td>\n",
       "      <td>467 Spruce St, New York City, NY 10001</td>\n",
       "    </tr>\n",
       "    <tr>\n",
       "      <th>4210</th>\n",
       "      <td>12/16/19 13:07</td>\n",
       "      <td>AA Batteries (4-pack)</td>\n",
       "      <td>1.0</td>\n",
       "      <td>3.84</td>\n",
       "      <td>90 Dogwood St, Atlanta, GA 30301</td>\n",
       "    </tr>\n",
       "    <tr>\n",
       "      <th>4211</th>\n",
       "      <td>12/29/19 07:13</td>\n",
       "      <td>AAA Batteries (4-pack)</td>\n",
       "      <td>1.0</td>\n",
       "      <td>2.99</td>\n",
       "      <td>103 Maple St, Atlanta, GA 30301</td>\n",
       "    </tr>\n",
       "    <tr>\n",
       "      <th>4212</th>\n",
       "      <td>12/10/19 10:04</td>\n",
       "      <td>Flatscreen TV</td>\n",
       "      <td>1.0</td>\n",
       "      <td>300.00</td>\n",
       "      <td>278 Jackson St, New York City, NY 10001</td>\n",
       "    </tr>\n",
       "    <tr>\n",
       "      <th>4213</th>\n",
       "      <td>12/18/19 11:11</td>\n",
       "      <td>USB-C Charging Cable</td>\n",
       "      <td>1.0</td>\n",
       "      <td>11.95</td>\n",
       "      <td>527 12th St, Los Angeles, CA 90001</td>\n",
       "    </tr>\n",
       "  </tbody>\n",
       "</table>\n",
       "<p>4064 rows × 5 columns</p>\n",
       "</div>"
      ],
      "text/plain": [
       "          Order Date                   Product  Quantity Ordered  Price Each  \\\n",
       "150   12/19/19 12:57  Lightning Charging Cable               1.0       14.95   \n",
       "151   12/11/19 19:45    34in Ultrawide Monitor               1.0      379.99   \n",
       "152   12/24/19 10:39  Lightning Charging Cable               1.0       14.95   \n",
       "153   12/20/19 02:31  Apple Airpods Headphones               1.0      150.00   \n",
       "154   12/06/19 14:55          Wired Headphones               1.0       11.99   \n",
       "...              ...                       ...               ...         ...   \n",
       "4209  12/05/19 19:50      USB-C Charging Cable               1.0       11.95   \n",
       "4210  12/16/19 13:07     AA Batteries (4-pack)               1.0        3.84   \n",
       "4211  12/29/19 07:13    AAA Batteries (4-pack)               1.0        2.99   \n",
       "4212  12/10/19 10:04             Flatscreen TV               1.0      300.00   \n",
       "4213  12/18/19 11:11      USB-C Charging Cable               1.0       11.95   \n",
       "\n",
       "                             Purchase Address  \n",
       "150   943 Johnson St, San Francisco, CA 94016  \n",
       "151     838 Ridge St, San Francisco, CA 94016  \n",
       "152       513 Maple St, Los Angeles, CA 90001  \n",
       "153         705 4th St, Los Angeles, CA 90001  \n",
       "154    528 Willow St, New York City, NY 10001  \n",
       "...                                       ...  \n",
       "4209   467 Spruce St, New York City, NY 10001  \n",
       "4210         90 Dogwood St, Atlanta, GA 30301  \n",
       "4211          103 Maple St, Atlanta, GA 30301  \n",
       "4212  278 Jackson St, New York City, NY 10001  \n",
       "4213       527 12th St, Los Angeles, CA 90001  \n",
       "\n",
       "[4064 rows x 5 columns]"
      ]
     },
     "execution_count": 6,
     "metadata": {},
     "output_type": "execute_result"
    }
   ],
   "source": [
    "salesDataframe[150:4213]"
   ]
  }
 ],
 "metadata": {
  "kernelspec": {
   "display_name": "base",
   "language": "python",
   "name": "python3"
  },
  "language_info": {
   "codemirror_mode": {
    "name": "ipython",
    "version": 3
   },
   "file_extension": ".py",
   "mimetype": "text/x-python",
   "name": "python",
   "nbconvert_exporter": "python",
   "pygments_lexer": "ipython3",
   "version": "3.11.4"
  }
 },
 "nbformat": 4,
 "nbformat_minor": 2
}
